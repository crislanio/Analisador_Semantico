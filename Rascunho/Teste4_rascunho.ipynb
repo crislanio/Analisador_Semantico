{
 "cells": [
  {
   "cell_type": "code",
   "execution_count": 267,
   "metadata": {
    "collapsed": false
   },
   "outputs": [
    {
     "name": "stdout",
     "output_type": "stream",
     "text": [
      "None\n"
     ]
    }
   ],
   "source": [
    "#-*- coding: utf-8 -*-\n",
    "#!/usr/bin/env python\n",
    "import fileinput\n",
    "from collections import deque as Pilha\n",
    "from itertools import chain # pra transformar lista de lista em lista\n",
    "from itertools import *\n",
    "\n",
    "# Função que retorna uma lista com cada palavra do código\n",
    "def splitCod(str):\n",
    "    l = []\n",
    "#     print(str.split())\n",
    "    l.append(str.split())\n",
    "    return l[0] # pra ser somente uma lista\n",
    "# lc = splitCod(teste6)\n",
    "\n",
    "topoPilhaSplit = Pilha ()\n",
    "def arquivo(str):\n",
    "    p = Pilha()\n",
    "    topoPilha = 0\n",
    "    arq = open(str, 'r')\n",
    "    texto = arq.readlines()\n",
    "    for linha in texto :\n",
    "        p.append(linha)\n",
    "        topoPilhaSplit.append(splitCod(linha))\n",
    "    arq.close()\n",
    "print(arquivo('saida.txt'))\n",
    "\n",
    "listaArquivoLinha = []\n",
    "def arquivoPraLinha(str):\n",
    "    p = Pilha()\n",
    "    arq = open(str, 'r')\n",
    "    texto = arq.readlines()\n",
    "    for linha in texto :\n",
    "        p.append(linha)\n",
    "        listaArquivoLinha.append(splitCod(linha))\n",
    "\n",
    "    novaListaArquivoLinha = list(chain(*listaArquivoLinha)) # olhar em :  https://pt.stackoverflow.com/questions/131258/converter-uma-lista-de-listas-em-uma-s%C3%B3-lista\n",
    "    arq.close()\n",
    "    return novaListaArquivoLinha\n",
    "lc = arquivoPraLinha('saida.txt')\n",
    "# print(arquivoPraLinha('saida.txt'))    \n"
   ]
  },
  {
   "cell_type": "code",
   "execution_count": 268,
   "metadata": {
    "collapsed": false
   },
   "outputs": [
    {
     "data": {
      "text/plain": [
       "[1, 2, 3]"
      ]
     },
     "execution_count": 268,
     "metadata": {},
     "output_type": "execute_result"
    }
   ],
   "source": [
    "list(chain(*[[1,2,3]]))"
   ]
  },
  {
   "cell_type": "code",
   "execution_count": 269,
   "metadata": {
    "collapsed": false
   },
   "outputs": [
    {
     "name": "stdout",
     "output_type": "stream",
     "text": [
      "['f', ['uu', ['n', ['c', [' ', ['(', [' ', ['g', [' ', ['(', [' ', ['c', [' ', ['(', [' ', ['ii', ['n', ['t', [' ', [',', [' ', ['s', ['t', ['r', ['ii', ['n', ['g', [' ', [')', [' ', [')', [' ', [')', [' ', None]]]]]]]]]]]]]]]]]]]]]]]]]]]]]]]]]]\n"
     ]
    }
   ],
   "source": [
    "\n",
    "def tamanho(lista):\n",
    "    if not lista:\n",
    "        return 0\n",
    "    else:\n",
    "        return 1+tamanho(lista[1:])\n",
    "\n",
    "def imprime_lista(lista):\n",
    "    if tamanho(lista)>0:\n",
    "        print (lista[0],imprime_lista(lista[1:]))\n",
    "\n",
    "\n",
    "def novaString(frase):\n",
    "    if tamanho(frase) > 0:\n",
    "        if frase[0] == 'a' or frase[0] == 'e' or frase[0] == 'i' or frase[0] == 'o' or frase[0] == 'u' or frase[0] == 'A' or frase[0] == 'E' or frase[0] == 'I' or frase[0] == 'O' or frase[0] == 'U':\n",
    "            return list((frase[0] * 2, novaString(frase[1:])))\n",
    "        else:\n",
    "            return list((frase[0], novaString(frase[1:])))        \n",
    "\n",
    "print(novaString(\"func ( g ( c ( int , string ) ) ) \"))\n",
    "# print(\"\".join( str(novaString(\"Crislanio de Souza\")) ).replace('[', '').replace(']', '').replace(',', '').replace('None', '').replace('\\'', '').replace(' ', '') )\n"
   ]
  },
  {
   "cell_type": "code",
   "execution_count": null,
   "metadata": {
    "collapsed": true
   },
   "outputs": [],
   "source": []
  },
  {
   "cell_type": "markdown",
   "metadata": {},
   "source": [
    "from collections import  deque as Pilha\n",
    "\n",
    "def tamanho(lista):\n",
    "    if not lista:\n",
    "        return 0\n",
    "    else:\n",
    "        return 1+tamanho(lista[1:])\n",
    "\n",
    "def imprime_lista(lista):\n",
    "    if tamanho(lista)>0:\n",
    "        print (lista[0],imprime_lista(lista[1:]))\n",
    "\n",
    "\n",
    "def novaString(frase):\n",
    "    if tamanho(frase) > 0:\n",
    "        if frase[0] == 'a' or frase[0] == 'e' or frase[0] == 'i' or frase[0] == 'o' or frase[0] == 'u' or frase[0] == 'A' or frase[0] == 'E' or frase[0] == 'I' or frase[0] == 'O' or frase[0] == 'U':\n",
    "            return list((frase[0] * 2, novaString(frase[1:])))\n",
    "        else:\n",
    "            return list((frase[0], novaString(frase[1:])))        \n",
    "\n",
    "\n",
    "print(\"\".join( str(novaString(\"Maike Bezerra d Silva\")) ).replace('[', '').replace(']', '').replace(',', '').replace('None', '').replace('\\'', '').replace(' ', '') )\n",
    "print(\" \")\n"
   ]
  },
  {
   "cell_type": "code",
   "execution_count": 273,
   "metadata": {
    "collapsed": false
   },
   "outputs": [
    {
     "name": "stdout",
     "output_type": "stream",
     "text": [
      "[('string', 'c'), ('string', 'Xim'), ('string', 'Lun'), ('string', 'x44'), ('int', 'kk'), ('int', 'v2'), ('string', 'v2'), ('string', 'd'), ('string', 'Pun'), ('string', 'cc'), ('int', 'cc')]\n",
      "verifica_var_escopo2  None\n"
     ]
    }
   ],
   "source": [
    "def duplicadoVarEscopo(p):\n",
    "    _aux = []\n",
    "\n",
    "    # removendo duplicados\n",
    "    for x in p:\n",
    "        if x not in _aux:\n",
    "            _aux.append(x)\n",
    "    # comparando os tamanhos\n",
    "    if len(p) != len(_aux):\n",
    "        return True # tem duplicados\n",
    "    else:\n",
    "        return False\n",
    "\n",
    "p = Pilha()    \n",
    "def verifica_var_escopo(str):\n",
    "    listaVarDentroFunc = []    \n",
    "    i = 0\n",
    "    while i< len(topoPilhaSplit):\n",
    "        k = 0\n",
    "        while k < len(topoPilhaSplit[i]):\n",
    "            if topoPilhaSplit[i][k] != '{':\n",
    "                if topoPilhaSplit[i][k] == 'int' or topoPilhaSplit[i][k] == 'string':\n",
    "                    p.append((topoPilhaSplit[i][k], topoPilhaSplit[i][k+1]))\n",
    "                    listaVarDentroFunc.append((topoPilhaSplit[i][k], topoPilhaSplit[i][k+1]))\n",
    "                if topoPilhaSplit[i][k] == '}':\n",
    "                    p.pop()            \n",
    "            k = k+1\n",
    "        i = i+1\n",
    "#     print(listaArquivoLinha)\n",
    "#     print(p)\n",
    "    \n",
    "# print(\"verifica_var_escopo(lc) \",verifica_var_escopo(lc))\n",
    "# print(\"duplicadoVarEscopo(p) \",duplicadoVarEscopo(p))\n",
    "\n",
    "# Verificando casos int func (int x , string x) # parâmetros com tipos diferentes mas com o mesmo nome \n",
    "# Esse tipo de erro só pode acontecer em funções com 2 parâmetros\n",
    "def verifica_param_func(str):\n",
    "    var_func_Arquivo = []\n",
    "    param_func = []\n",
    "    topoPilha = 0\n",
    "    for i in range(len(topoPilhaSplit)): \n",
    "        for j in range(len(topoPilhaSplit[i])):\n",
    "            if topoPilhaSplit[i][j] == '(':                    \n",
    "                if (topoPilhaSplit[i][j+1] == 'int' or topoPilhaSplit[i][j+1] == 'string') and (topoPilhaSplit[i][j+4] == 'int' or topoPilhaSplit[i][j+4] == 'string'):\n",
    "                    if (topoPilhaSplit[i][j+1] == topoPilhaSplit[i][j+4]) and (topoPilhaSplit[i][j+2] == topoPilhaSplit[i][j+5]) :\n",
    "#                         print((topoPilhaSplit[i][j+1],\" e \", topoPilhaSplit[i][j+4]) ,\" e \", (topoPilhaSplit[i][j+2], \" == \", topoPilhaSplit[i][j+5]))\n",
    "                        return False\n",
    "                    elif (topoPilhaSplit[i][j+1] != topoPilhaSplit[i][j+4]) and (topoPilhaSplit[i][j+2] == topoPilhaSplit[i][j+5]) :\n",
    "#                         print((topoPilhaSplit[i][j+1],\" != \", topoPilhaSplit[i][j+4]) ,\" e \", (topoPilhaSplit[i][j+2],\" == \", topoPilhaSplit[i][j+5]))\n",
    "                        return False\n",
    "                    else:\n",
    "                        var_func_Arquivo.append (((topoPilhaSplit[i][j+1], topoPilhaSplit[i][j+2]), (topoPilhaSplit[i][j+4], topoPilhaSplit[i][j+5])))                    \n",
    "                        param_func.append(((topoPilhaSplit[i][j+1], topoPilhaSplit[i][j+2]), (topoPilhaSplit[i][j+4], topoPilhaSplit[i][j+5])))  \n",
    "\n",
    "#     print(param_func)   # parâmetros das funções\n",
    "       \n",
    "# print(\"verifica_param_func(lc) \",verifica_param_func(lc))\n",
    "\n",
    "def verifica_var_escopo2(str):\n",
    "    p2 = Pilha()    \n",
    "    listaVarDentroFunc = []    \n",
    "    i = 0\n",
    "    while i< len(topoPilhaSplit):\n",
    "        k = 0\n",
    "        while k < len(topoPilhaSplit[i]):\n",
    "            if topoPilhaSplit[i][k] != '{':\n",
    "                if topoPilhaSplit[i][k] == 'int' or topoPilhaSplit[i][k] == 'string':\n",
    "                    p2.append((topoPilhaSplit[i][k], topoPilhaSplit[i][k+1]))\n",
    "                    listaVarDentroFunc.append((topoPilhaSplit[i][k], topoPilhaSplit[i][k+1]))\n",
    "                if topoPilhaSplit[i][k] == '}':\n",
    "                    p2.pop()  \n",
    "#                     print(\"Pop \",p2.pop())\n",
    "                    \n",
    "            k = k+1\n",
    "        i = i+1\n",
    "    print(listaVarDentroFunc)\n",
    "#     print(p2)\n",
    "print(\"verifica_var_escopo2 \", verifica_var_escopo2(lc))"
   ]
  },
  {
   "cell_type": "code",
   "execution_count": null,
   "metadata": {
    "collapsed": false
   },
   "outputs": [],
   "source": []
  },
  {
   "cell_type": "code",
   "execution_count": 272,
   "metadata": {
    "collapsed": false
   },
   "outputs": [
    {
     "name": "stdout",
     "output_type": "stream",
     "text": [
      " string>  Lun string\n",
      "func_compost  None\n"
     ]
    }
   ],
   "source": [
    "# lc = arquivoPraLinha('saida.txt')\n",
    "so_tipo_var_func_Arquivo = []\n",
    "    \n",
    "tiposVariaveisArquivo = []\n",
    "funcArquivo = []\n",
    "so_nome_funcArquivo = []\n",
    "so_tipo_funcArquivo = []\n",
    "    \n",
    "funcArquivoZeroParam = []\n",
    "funcArquivoUmParam = []\n",
    "param_funcArquivoUmParam = []\n",
    "param_funcArquivoDoisParam = []\n",
    "    \n",
    "so_nome_funcArquivoZero_param = []\n",
    "so_tipo_funcArquivoZero_param = []\n",
    "    \n",
    "so_nome_funcArquivoUm_param = []\n",
    "so_tipo_funcArquivoUm_param = []\n",
    "so_tipo_ParamFuncUm_param = []\n",
    "    \n",
    "so_nome_funcArquivoDois_param = []\n",
    "so_tipo_funcArquivoDois_param = []\n",
    "so_tipo_ParamFuncDois_param = []\n",
    "\n",
    "\n",
    "# retorna Erro se o parâmetro de retorno sendo uma função composta ou não não está de acordo como sua declaração\n",
    "def caso_recursao_func():\n",
    "    variaveisArquivo = []\n",
    "    var_func_Arquivo = []\n",
    "    l_func_com_return = [] # lista com os retornos\n",
    "    \n",
    "    \n",
    "    funcArquivoDoisParam = []\n",
    "    varParametrosReturn = [] # lista com os parâmetros e os tipos dos retornos\n",
    "    reversoListaVar = []\n",
    "# Pegando todas as variáveis e funções e colocando eles em uma lista na ordem que são declaradas    \n",
    "    for i in range(len(topoPilhaSplit)): \n",
    "        for j in range(len(topoPilhaSplit[i])):\n",
    "            if ((topoPilhaSplit[i][j] == 'int' or topoPilhaSplit[i][j] == 'string') and not topoPilhaSplit[i][j+2] == '(') or ((topoPilhaSplit[i][j] == 'int' or topoPilhaSplit[i][j] == 'string') and topoPilhaSplit[i][j+2] == '('):\n",
    "                var_func_Arquivo.append( (topoPilhaSplit[i][j+1], topoPilhaSplit[i][j] ) )                    \n",
    "                so_tipo_var_func_Arquivo.append(topoPilhaSplit[i][j])                    \n",
    "                    \n",
    "# Pegando todas as variáveis e colocando eles em uma lista na ordem que são declaradas    \n",
    "    for i in range(len(topoPilhaSplit)): \n",
    "        for j in range(len(topoPilhaSplit[i])):\n",
    "            if (topoPilhaSplit[i][j] == 'int' or topoPilhaSplit[i][j] == 'string') and not topoPilhaSplit[i][j+2] == '(':\n",
    "                    variaveisArquivo.append( (topoPilhaSplit[i][j+1], topoPilhaSplit[i][j] ) )\n",
    "                    tiposVariaveisArquivo.append( (topoPilhaSplit[i][j] ) )\n",
    "                    \n",
    "                    reversoListaVar=variaveisArquivo[::-1] \n",
    "# Pegando todas as funções com seus parâmetros e colocando eles em uma lista na ordem que são declaradas    \n",
    "    for i in range(len(topoPilhaSplit)): \n",
    "        for j in range(len(topoPilhaSplit[i])):\n",
    "            if (topoPilhaSplit[i][j] == 'int' or topoPilhaSplit[i][j] == 'string') and topoPilhaSplit[i][j+2] == '(':\n",
    "                funcArquivo.append( (topoPilhaSplit[i][j],topoPilhaSplit[i][j+1] ) ) # pegando as funções na ordem que são declaradas\n",
    "                so_nome_funcArquivo.append(topoPilhaSplit[i][j+1]) # só nome função\n",
    "                so_tipo_funcArquivo.append(topoPilhaSplit[i][j])\n",
    "            if (topoPilhaSplit[i][j] == 'int' or topoPilhaSplit[i][j] == 'string') and topoPilhaSplit[i][j+2] == '(' and topoPilhaSplit[i][j+3] == ')': \n",
    "                funcArquivoZeroParam.append( (topoPilhaSplit[i][j], topoPilhaSplit[i][j+1], ()) ) # *só preciso guardar a func\n",
    "                so_nome_funcArquivoZero_param.append(topoPilhaSplit[i][j+1])\n",
    "                so_tipo_funcArquivoZero_param.append(topoPilhaSplit[i][j])\n",
    "                \n",
    "            if ((topoPilhaSplit[i][j] == 'int' or topoPilhaSplit[i][j] == 'string') and topoPilhaSplit[i][j+2] == '(' and (topoPilhaSplit[i][j+3] == 'int' or topoPilhaSplit[i][j+3] == 'string') and topoPilhaSplit[i][j+5] ==')' ):\n",
    "                    funcArquivoUmParam.append( (topoPilhaSplit[i][j], topoPilhaSplit[i][j+1], ( topoPilhaSplit[i][j+3], () ) ) ) # *só preciso a func\n",
    "                    param_funcArquivoUmParam.append(topoPilhaSplit[i][j+3])\n",
    "                    so_tipo_funcArquivoUm_param.append(topoPilhaSplit[i][j])\n",
    "                    so_nome_funcArquivoUm_param.append(topoPilhaSplit[i][j+1])\n",
    "                    so_tipo_ParamFuncUm_param.append(topoPilhaSplit[i][j+3])\n",
    "                    \n",
    "            if ((topoPilhaSplit[i][j] == 'int' or topoPilhaSplit[i][j] == 'string') and topoPilhaSplit[i][j+2] == '(' and (topoPilhaSplit[i][j+3] == 'int' or topoPilhaSplit[i][j+3] == 'string') and (topoPilhaSplit[i][j+6] == 'int' or topoPilhaSplit[i][j+6] == 'string') and topoPilhaSplit[i][j+8] ==')' ):\n",
    "                    funcArquivoDoisParam.append((topoPilhaSplit[i][j], topoPilhaSplit[i][j+1], (topoPilhaSplit[i][j+3], topoPilhaSplit[i][j+6]) )) # func\n",
    "                    param_funcArquivoDoisParam.append((topoPilhaSplit[i][j+3], topoPilhaSplit[i][j+6]))\n",
    "                    so_tipo_funcArquivoDois_param.append(topoPilhaSplit[i][j])\n",
    "                    so_nome_funcArquivoDois_param.append(topoPilhaSplit[i][j+1])\n",
    "                    so_tipo_ParamFuncDois_param.append((topoPilhaSplit[i][j+3], topoPilhaSplit[i][j+6] ) )                    \n",
    "#     print(funcArquivo)\n",
    "#     print(var_func_Arquivo)\n",
    "#     print(so_tipo_var_func_Arquivo)\n",
    "#     print(variaveisArquivo)\n",
    "#     print(tiposVariaveisArquivo)\n",
    "\n",
    "#     print(funcArquivoZeroParam)\n",
    "#     print(funcArquivoUmParam)\n",
    "#     print(funcArquivoDoisParam)\n",
    "    ii = 0\n",
    "    while ii< len(topoPilhaSplit):\n",
    "        if 'return' in topoPilhaSplit[ii]:\n",
    "            if '(' in topoPilhaSplit[ii]:\n",
    "                l_func_com_return.append(topoPilhaSplit[ii])\n",
    "        ii = ii+1\n",
    "#     for iii in range(len(l_teste)):\n",
    "    _maior_lista = (max(l_func_com_return, key=len)) # tamanho da maior sublista\n",
    "#     print(_maior_lista)\n",
    "#     print(l_func_com_return)\n",
    "    return l_func_com_return # lista com os retornos\n",
    "\n",
    "# ** NÃO ESTÁ TOTALMENTE COMPLETO\n",
    "# RETORNA FALSE CASO A COMPOSIÇÃO DA FUNÇÃO SEJA INVÁLIDA\n",
    "def pega_func_composta(l_func_com_return):\n",
    "    for q in range(len(l_func_com_return)): # percorrendo cada linha que contêm return e função\n",
    "        for qq in range(len(l_func_com_return[q])):\n",
    "            if l_func_com_return[q][qq] == 'return':\n",
    "                if l_func_com_return[q][qq+1] in so_nome_funcArquivo:                \n",
    "                    if l_func_com_return[q][qq+1] in so_nome_funcArquivoZero_param:\n",
    "                        print(\"zero \",l_func_com_return[q][qq+1])\n",
    "                        \n",
    "                    if l_func_com_return[q][qq+1] in so_nome_funcArquivoUm_param:\n",
    "                        for s in range(len(so_nome_funcArquivoUm_param)):\n",
    "#                             print(\"um \",l_func_com_return[q][qq+3]) \n",
    "# caso de uma função com um param\n",
    "                            if l_func_com_return[q][qq+1] == so_nome_funcArquivoUm_param[s]:\n",
    "                                    if so_tipo_ParamFuncUm_param[s] == 'int' and (l_func_com_return[q][qq+3][0] != '\\\"' or l_func_com_return[q][qq+3][0] != '\\''):\n",
    "                                        # vendo quando recebe funcao composta\n",
    "                                        if l_func_com_return[q][qq+3] in so_nome_funcArquivo:\n",
    "                                        # verifico se o tipo da função composta é diferente\n",
    "                                            for ff in range(len(so_nome_funcArquivo)):\n",
    "                                                if l_func_com_return[q][qq+3] == so_nome_funcArquivo[ff]:\n",
    "                                                    if so_tipo_funcArquivo[ff] == 'string':\n",
    "#                                                         print(\" int>nome func, tipo func [ff] \", so_tipo_funcArquivo[ff])\n",
    "                                                        return False\n",
    "                                                    else:\n",
    "#                                                         print(\" int> \", so_nome_funcArquivo[ff],so_tipo_funcArquivo[ff])\n",
    "                                                        return pega_func_composta(func_composta[0:][1:][0])\n",
    " \n",
    "                                                    \n",
    "#                                             print(\"é fun int  \", l_func_com_return[q][qq+3])                              \n",
    "#                                         continue\n",
    "                                    if so_tipo_ParamFuncUm_param[s] == 'string' and (l_func_com_return[q][qq+3][0] == '\\\"' or l_func_com_return[q][qq+3][0] == '\\'') or l_func_com_return[q][qq+3] in so_nome_funcArquivo :\n",
    "#                                         print(\"ok string \", l_func_com_return[q][qq+3])                              \n",
    "                                          # vendo quando recebe funcao composta\n",
    "                                        # verifico se o tipo da função composta é diferente\n",
    "                                            for ff in range(len(so_nome_funcArquivo)):\n",
    "                                                if l_func_com_return[q][qq+3] == so_nome_funcArquivo[ff]:\n",
    "                                                    if so_tipo_funcArquivo[ff] == 'int': # se a função passada como parâmetro não é string\n",
    "#                                                         print(\" string>nome func, tipo func [ff] \", so_tipo_funcArquivo[ff])\n",
    "                                                        return False\n",
    "                                                    else:\n",
    "#                                                         print(\" string> \", so_nome_funcArquivo[ff],so_tipo_funcArquivo[ff])\n",
    "                                                        \n",
    "                                                        return pega_func_composta(func_composta[0:][1:][0])\n",
    "\n",
    "                                                    \n",
    "                                                    \n",
    "                                                    \n",
    "func_composta  = caso_recursao_func()\n",
    "print(\"func_compost \",pega_func_composta(func_composta))\n",
    "# print(\"pega_func_compost \",pega_func_composta(func_composta))\n",
    "# print(func_composta[0:][1:][0])\n",
    "\n",
    "# print(\"\".join( str(novaString(\"Crislanio de Souza\")) ).replace('[', '').replace(']', '').replace(',', '').replace('None', '').replace('\\'', '').replace(' ', '') )\n",
    "\n"
   ]
  },
  {
   "cell_type": "code",
   "execution_count": null,
   "metadata": {
    "collapsed": false
   },
   "outputs": [],
   "source": []
  },
  {
   "cell_type": "code",
   "execution_count": null,
   "metadata": {
    "collapsed": true
   },
   "outputs": [],
   "source": []
  },
  {
   "cell_type": "code",
   "execution_count": null,
   "metadata": {
    "collapsed": true
   },
   "outputs": [],
   "source": []
  },
  {
   "cell_type": "code",
   "execution_count": null,
   "metadata": {
    "collapsed": true
   },
   "outputs": [],
   "source": []
  }
 ],
 "metadata": {
  "kernelspec": {
   "display_name": "Python 3",
   "language": "python",
   "name": "python3"
  },
  "language_info": {
   "codemirror_mode": {
    "name": "ipython",
    "version": 3
   },
   "file_extension": ".py",
   "mimetype": "text/x-python",
   "name": "python",
   "nbconvert_exporter": "python",
   "pygments_lexer": "ipython3",
   "version": "3.5.2"
  }
 },
 "nbformat": 4,
 "nbformat_minor": 2
}
