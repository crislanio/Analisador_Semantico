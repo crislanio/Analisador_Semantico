{
 "cells": [
  {
   "cell_type": "code",
   "execution_count": null,
   "metadata": {
    "collapsed": false
   },
   "outputs": [],
   "source": []
  },
  {
   "cell_type": "code",
   "execution_count": 1,
   "metadata": {
    "collapsed": false
   },
   "outputs": [],
   "source": [
    "#-*- coding: utf-8 -*-\n",
    "#!/usr/bin/env python\n",
    "import pandas as pd\n",
    "import numpy as np\n",
    "from copy import copy\n",
    "from copy import deepcopy\n",
    "import fileinput\n",
    "from collections import deque as Pilha\n",
    "from itertools import chain # pra transformar lista de lista em lista\n",
    "\n",
    "# operadores = np.array([\n",
    "#          ['/', '*', '%', '+', '-'],  # aritmeticos\n",
    "#          ['==', '>', '<', '<=', '>=', '!='], # relacionais\n",
    "#          ['&&', '|', '!', '&', '||'], # lógios\n",
    "#          ['0', '1', '2', '3', '4', '5', '6', '7', '8', '9'], # números\n",
    "#          ['int', 'string', 'return'] # palavras reservadas\n",
    "#         ])\n",
    "# obs: sempre tenho que ter o code separado por espaço em cada item. ex: int X ( int a , int b )\n",
    "# teste = \" int fun ( int a , int b ) { return a + b ; } int main ( ) { int a = 3 ; int b = 5 ; int c = a + b ; return c + fun ( a , b ) ; } \"\n",
    "# teste2 = \"int a = 0 ; { int b = a  ;  int c = b + a ; a + c ; string s = ' ' ; int d = 2 - s ; int e = a * b ; }\"\n",
    "# teste3 = \"int x ( int a, int b ) { a = 3 ; } int y ( int c, int d ) { int c = 3 ; int c ; } \"\n",
    "# teste4 = \"int c ; int fun ( int a, int b ) { a = 5 ; b = 10 ; c = 3 } \"\n",
    "# teste5 = \"int a  = 0 ; int func ( int a, int b ) { b = 0 ; }\"\n",
    "# teste6 = \"int X ( int 2 ) { int X ( 2 ) ; return 0 }\"\n",
    "# teste7 = \"int X (int b) { } int Y ( int a ) { int X ( 2 ) ; return 0}\"\n",
    "# teste8 = \"int d ; int X ( int b ) { b = 2 ; } int Y ( int a ) { a = 2 ; }\" \n",
    "# teste09  = \"int b ; int Z ( int a ) { } int Y ( int a ) { } int X ( int b ) { b = 0; }\"\n",
    "# teste10  = \"int X ( int a ) { int a ; }\" # * ok\n",
    "# teste11  = \"int b ; int X ( int b ) { b = 0; int b = 2 }\"\n",
    "# teste13  = \"int b ; int Y ( int a ) { } int X ( int b ) { b = 0; }\"\n",
    "# teste12  = \"int b ; int Y ( int a ) { } int X ( int b ) { b = 0; } int Z ( int a ) { }\"\n",
    "# erro  = \"int Y ( int a ) { } int X ( int b ) { int b = 0; } int Z ( int a ) { }\"\n",
    "\n",
    "# testes para função in0 erro pra var\n",
    "# in0 = \" int W ( string a , string b ) { W ( 's2 , 's1' ) } int Z ( int a , int b ) { Z ( 2 , 3 ) } int X ( int a ) { X ( a = 2 ; ) ; } int Y ( ) { Y ( ) ; } int K ( int a , string b ) { K ( 2 , 't' ) ; } int K2 ( string a ,int b ) { K2 ( 't2' , 2 ) ; } \"\n",
    "# in1 = \" int J ( string p ) { } int W2 ( int a1 , int b2 ) { } int W ( string a , string b ) { } int Z ( int d1 , int d2 ) { Z ( 2 , 3 ) } int X ( int c1 ) { X ( c1 = 2 ; ) ; } int Y ( ) { Y ( ) ; } int K ( int e1 , string e2 ) { K ( 2 , 't' ) ; } int K2 ( string w1 ,int w2 ) { K2 ( 't2' , 2 ) ; } \"\n",
    "# in2 = \" int Y ( ) { } int Z ( ) { } int J ( string p ) { } int W2 ( ) { } int W ( ) { } int Z ( ) { Z ( ) } int X ( ) { X ( ) ; } int Y ( ) { Y ( ) ; } \"\n",
    "\n",
    "# lista de pilhas\n",
    "                                # g0 = { a-> str, fun -> int}\n",
    "                                # g1 = g0 U {a-> int, b->int}\n",
    "                                # g0 U {a-> in, b->int, c->int}       \n",
    "                \n",
    "# Função que retorna uma lista com cada palavra do código\n",
    "def splitCod(str):\n",
    "    l = []\n",
    "#     print(str.split())\n",
    "    l.append(str.split())\n",
    "    return l[0] # pra ser somente uma lista\n",
    "# lc = splitCod(in0)\n"
   ]
  },
  {
   "cell_type": "code",
   "execution_count": 2,
   "metadata": {
    "collapsed": false
   },
   "outputs": [
    {
     "name": "stdout",
     "output_type": "stream",
     "text": [
      "None\n"
     ]
    }
   ],
   "source": [
    "topoPilhaSplit = Pilha ()\n",
    "def arquivo(str):\n",
    "    p = Pilha()\n",
    "#     topoPilhaSplit = Pilha () # para pegar a linha no topo da pilha com split \n",
    "    topoPilha = 0\n",
    "    arq = open(str, 'r')\n",
    "    texto = arq.readlines()\n",
    "#     print(len(texto))\n",
    "    for linha in texto :\n",
    "        p.append(linha)\n",
    "#         print(p)\n",
    "        topoPilhaSplit.append(splitCod(linha))\n",
    "\n",
    "#     print(\"++1++ \",len(topoPilhaSplit))\n",
    "#     print(\"++1++ \",topoPilhaSplit.pop())\n",
    "#     print(\"++1++ \",topoPilhaSplit.pop())\n",
    "#     print(\"++1++ \",topoPilhaSplit.pop())\n",
    "#     print(\"++1++ \",topoPilhaSplit.pop())\n",
    "#     print(\"++1++ \",topoPilhaSplit.pop())\n",
    "#     print(\"++1++ \",topoPilhaSplit.pop())\n",
    "#     print(\"++1++ \",topoPilhaSplit.pop())\n",
    "#     print(\"++1++ \",topoPilhaSplit.pop())\n",
    "#     print(\"++1++ \",topoPilhaSplit.pop())\n",
    "#     print(\"++1++ \",topoPilhaSplit.pop())\n",
    "#     print(\"++1++ \",topoPilhaSplit.pop())\n",
    "#     print(\"++1++ \",topoPilhaSplit.pop())\n",
    "#     print(\"++1++ \",topoPilhaSplit.pop())\n",
    "#     print(\"++1++ \",topoPilhaSplit.pop())\n",
    "#     print(\"++1++ \",topoPilhaSplit.pop())\n",
    "#     print(\"++1++ \",topoPilhaSplit.pop())\n",
    "#     print(\"++1++ \",topoPilhaSplit.pop())\n",
    "#     print(\"  \")\n",
    "\n",
    "#     print(\"++1++ \",topoPilhaSplit.pop())\n",
    "#     print(\"++1++ \",topoPilhaSplit.pop())\n",
    "#     print(\"++1++ \",topoPilhaSplit.pop())\n",
    "    arq.close()\n",
    "    \n",
    "print(arquivo('saida.txt'))\n",
    "\n",
    "listaArquivoLinha = []\n",
    "def arquivoPraLinha(str):\n",
    "    i = 0\n",
    "    p = Pilha()\n",
    "    arq = open(str, 'r')\n",
    "    texto = arq.readlines()\n",
    "#     print(len(texto))\n",
    "    for linha in texto :\n",
    "        p.append(linha)\n",
    "        listaArquivoLinha.append(splitCod(linha))\n",
    "\n",
    "    novaListaArquivoLinha = list(chain(*listaArquivoLinha))\n",
    "\n",
    "#     print (novaListaArquivoLinha); \n",
    "    arq.close()\n",
    "    return novaListaArquivoLinha\n",
    "# print(arquivoPraLinha('saida.txt'))\n",
    "\n",
    "lc = arquivoPraLinha('saida.txt')\n",
    "\n",
    "\n",
    "# caso  tipo da função é o mesmo tipo do retorno: int fun ( int a , int b )  return a + b ;\n",
    "\n",
    "def tipo_funcao_mesmo_tipo_retorno():\n",
    "    variaveisArquivo = []\n",
    "    funcArquivoUmParam = []\n",
    "    funcArquivoDoisParam = []\n",
    "    \n",
    "    reversoListaVar = []\n",
    "    indicesFuncUmPara = []\n",
    "    indicesFuncDoisPara = []\n",
    "    \n",
    "    indicesVar = []\n",
    "    \n",
    "    topoPilha = 0\n",
    "# Pegando todas as funções com seus parâmetros e colocando eles em uma lista na ordem que são declaradas    \n",
    "    for i in range(len(topoPilhaSplit)): \n",
    "        for j in range(len(topoPilhaSplit[i])):\n",
    "            if ((topoPilhaSplit[i][j] == 'int' or topoPilhaSplit[i][j] == 'string') and topoPilhaSplit[i][j+2] == '(' and (topoPilhaSplit[i][j+3] == 'int' or topoPilhaSplit[i][j+3] == 'string') and topoPilhaSplit[i][j+5] ==')' ):\n",
    "                    funcArquivoUmParam.append( (topoPilhaSplit[i][j+3]) ) # *só preciso guardar seu param\n",
    "#                     indicesFuncUmPara.append((i,j))\n",
    "            if ((topoPilhaSplit[i][j] == 'int' or topoPilhaSplit[i][j] == 'string') and topoPilhaSplit[i][j+2] == '(' and (topoPilhaSplit[i][j+3] == 'int' or topoPilhaSplit[i][j+3] == 'string') and (topoPilhaSplit[i][j+6] == 'int' or topoPilhaSplit[i][j+6] == 'string') and topoPilhaSplit[i][j+8] ==')' ):\n",
    "                    funcArquivoDoisParam.append((topoPilhaSplit[i][j+3],topoPilhaSplit[i][j+6] )) # parametros\n",
    "#                     indicesFuncDoisPara.append((i,j))\n",
    "\n",
    "# Pegando todas as variáveis e colocando eles em uma lista na ordem que são declaradas    \n",
    "    for i in range(len(topoPilhaSplit)): \n",
    "        for j in range(len(topoPilhaSplit[i])):\n",
    "            if (topoPilhaSplit[i][j] == 'int' or topoPilhaSplit[i][j] == 'string') and not topoPilhaSplit[i][j+2] == '(':\n",
    "                    variaveisArquivo.append( (topoPilhaSplit[i][j+1] ) )\n",
    "                    indicesVar.append((i,j))\n",
    "                    reversoListaVar=variaveisArquivo[::-1] \n",
    "\n",
    "# Verificando se as funções estão sendo declaradas antes de serem usadas\n",
    "    for i in range(len(topoPilhaSplit)): \n",
    "        for j in range(len(topoPilhaSplit[i])):\n",
    "            if topoPilhaSplit[i][j] == 'return':\n",
    "                if topoPilhaSplit[i][j+1] and topoPilhaSplit[i][j+2] == ';': # retorno só com um parâmetro\n",
    "                    # pegando declarações de funções\n",
    "                    if (topoPilhaSplit[i][j+2] == 'int'):\n",
    "                        for k in range(len(indicesFunc)):\n",
    "                            if topoPilhaSplit[i][j+2] == funcArquivoUmParam[k]: # quando encontro uma função declarada\n",
    "                                    print(\"int pass \")\n",
    "                                    continue\n",
    "                            else:\n",
    "                                print(\"Erro Int\")\n",
    "                                return False\n",
    "                    if (topoPilhaSplit[i][j+2] == 'string'):\n",
    "                        for k in range(len(indicesFunc)):\n",
    "                            if topoPilhaSplit[i][j+2] == funcArquivoUmParam[k]: # quando encontro uma função declarada\n",
    "                                    print(\"string pass \")\n",
    "                                    continue\n",
    "                            else:\n",
    "                                print(\"Erro String\")\n",
    "                                return False\n",
    "            else:\n",
    "                continue\n",
    "                \n",
    "                \n",
    "                \n",
    "# print(tipo_funcao_mesmo_tipo_retorno())"
   ]
  },
  {
   "cell_type": "code",
   "execution_count": 3,
   "metadata": {
    "collapsed": false
   },
   "outputs": [],
   "source": [
    "# print(lc)\n",
    "# print(\" \")\n",
    "# print(intCodI(lc))\n",
    "# print(\" \")\n",
    "# print(intFunc(lc))\n",
    "# print(\" \")"
   ]
  },
  {
   "cell_type": "code",
   "execution_count": null,
   "metadata": {
    "collapsed": false
   },
   "outputs": [],
   "source": []
  },
  {
   "cell_type": "code",
   "execution_count": 4,
   "metadata": {
    "collapsed": false
   },
   "outputs": [],
   "source": [
    "# restrição de que var globais tem de ser definidas no acima de todas as funções\n",
    "def verifica_func_escopo(str):\n",
    "    variaveis = []\n",
    "    funcoes = []\n",
    "    topoPilha = 0\n",
    "    varCode = lc\n",
    "    escopo = Pilha ()\n",
    "    escopoGlobal = Pilha ()\n",
    "    escopos = [escopo]         # lista de pilhas\n",
    "    escoposG = [escopoGlobal]          # g0 = { a-> str, fun -> int}\n",
    "                                # g1 = g0 U {a-> int, b->int}\n",
    "                                # g0 U {a-> in, b->int, c->int}   \n",
    "    print(lc)\n",
    "    i = 0\n",
    "    while i< len(lc):\n",
    "        if (varCode[i] == \"string\") or varCode[i] == \"int\" and varCode[i+2] == \"(\": # ex: int X (\n",
    "            if not (varCode[i] == \"string\") or varCode[i] == \"int\" and varCode[i+2] == \"(\":\n",
    "                if (varCode[i]==\"string\" or varCode[i]==\"int\" and varCode[i+2]==\"(\"):\n",
    "                    if not (varCode[i+1], 'int') in escopos[topoPilha] and not (varCode[i+1], 'string') in escopos[topoPilha]:\n",
    "                \n",
    "#                 if (varCode[i]==\"string\" or varCode[i]==\"int\" and varCode[i+2]==\"(\") and (varCode[i+3]=='string' and varCode[i+5] != \")\"):\n",
    "\n",
    "#coreto#                (varCode[i]==\"string\" or varCode[i]==\"int\" and varCode[i+2] == \"(\") and varCode[i+3]==\")\" or    (varCode[i]==\"string\" or varCode[i]==\"int\" and varCode[i+2]==\"(\") and (varCode[i+3]==\"string\" and varCode[i+5] == \")\") or    (varCode[i]==\"string\" or varCode[i]==\"int\" and varCode[i+2] == \"(\") and (varCode[i+3]==\"int\" and varCode[i+5] == \")\") :\n",
    "\n",
    "# or (varCode[i]==\"string\" or varCode[i]==\"int\" and varCode[i+2] == \"(\") and varCode[i+3]==\"string\" or varCode[i+3]==\"int\" and varCode[i+5] == \",\" and varCode[i+6]==\"string\" or varCode[i+6]==\"int\" and varCode[i+7] == \")\" : \n",
    "\n",
    "# (varCode[i]==\"string\" or varCode[i]==\"int\" and varCode[i+2] == \"(\") and (varCode[i+3]==\"string\" and varCode[i+5] == \")\" ): \n",
    "                    \n",
    "                        escopos[topoPilha].append( (varCode[i+1], varCode[i]) ) # formato x, int\n",
    "                        variaveis.append(varCode[i+1])\n",
    "                        print(variaveis)\n",
    "#                         print(escopos)\n",
    "#Caso - int X ( int a ) { X ( a = 2 ; ) ; } int Y ( ) { Y ( ) ; }\n",
    "                    else:\n",
    "                        variaveis.append(varCode[i+1])\n",
    "                        print(\"- \",variaveis)\n",
    "                        print(\"Variável já declarada no escopo\")\n",
    "                        return True       \n",
    "        i += 1\n",
    "        "
   ]
  },
  {
   "cell_type": "code",
   "execution_count": 5,
   "metadata": {
    "collapsed": false,
    "scrolled": true
   },
   "outputs": [
    {
     "name": "stdout",
     "output_type": "stream",
     "text": [
      "['string', 'Lun', '(', 'int', 'x4', ')', '{', 'v', '=', '40;', 'int', 'v2', '=', '43;', 'int', 'v', ';', 'return', 'x4', ';', '}', 'int', 'Pun', '(', ')', '{', 'string', 'a5', '=', \"'3'\", ';', 'return', 'a5', ';', '}']\n",
      "['Pun']\n",
      "None\n"
     ]
    }
   ],
   "source": [
    "print(verifica_func_escopo(lc))"
   ]
  },
  {
   "cell_type": "code",
   "execution_count": 6,
   "metadata": {
    "collapsed": false
   },
   "outputs": [],
   "source": [
    "# a = 'J'\n",
    "# b = 'p'     \n",
    "# c = 2 \n",
    "# print('int '+ a+ ' ( string '+b +' )' in teste10)\n",
    "# d = np.array(lc)\n",
    "# p = Pilha()\n",
    "# # p.apppend(c)\n",
    "# esc = [p]\n",
    "# print(esc)"
   ]
  },
  {
   "cell_type": "code",
   "execution_count": 7,
   "metadata": {
    "collapsed": false
   },
   "outputs": [],
   "source": [
    "# a = 'J'\n",
    "# b = 'p'     \n",
    "# c = 2 \n",
    "# print('int '+ a+ ' ( string '+b +' )' in in1)\n",
    "# print('int '+ a+ ' ( string '+b +' )')\n",
    "\n"
   ]
  },
  {
   "cell_type": "code",
   "execution_count": null,
   "metadata": {
    "collapsed": false
   },
   "outputs": [],
   "source": []
  },
  {
   "cell_type": "code",
   "execution_count": null,
   "metadata": {
    "collapsed": true
   },
   "outputs": [],
   "source": []
  },
  {
   "cell_type": "code",
   "execution_count": null,
   "metadata": {
    "collapsed": true
   },
   "outputs": [],
   "source": []
  },
  {
   "cell_type": "code",
   "execution_count": 8,
   "metadata": {
    "collapsed": false
   },
   "outputs": [
    {
     "name": "stdout",
     "output_type": "stream",
     "text": [
      "None\n",
      "None\n"
     ]
    }
   ],
   "source": [
    "#!/usr/bin/env python\n",
    "# -*- coding: utf-8 -*-\n",
    "# \" e \", \" e ', ' e ', \" e '\n",
    "def operacaoStringNaoVar():\n",
    "    variaveisArquivo = []\n",
    "    for i in range(len(topoPilhaSplit)): \n",
    "        for j in range(len(topoPilhaSplit[i])):\n",
    "            if (topoPilhaSplit[i][j] == 'int' or topoPilhaSplit[i][j] == 'string'):\n",
    "                variaveisArquivo.append( (topoPilhaSplit[i][j+1], topoPilhaSplit[i][j]) )\n",
    "\n",
    "    for i in range(len(topoPilhaSplit)): \n",
    "        for j in range(len(topoPilhaSplit[i])):                \n",
    "            if (topoPilhaSplit[i][j] == '+' or topoPilhaSplit[i][j] == '-' or topoPilhaSplit[i][j] == '*' or topoPilhaSplit[i][j] == '/'):\n",
    "                # \" e \", \" e ', ' e ', \" e '\n",
    "                if ((topoPilhaSplit[i][j-1][0] == '\\\"') and (topoPilhaSplit[i][j+1][0] == '\\\"')) or ((topoPilhaSplit[i][j-1][0] == '\\'') and (topoPilhaSplit[i][j+1][0] == '\\'')) or ((topoPilhaSplit[i][j-1][0] == '\\'') and (topoPilhaSplit[i][j+1][0] == '\\\"')) or ((topoPilhaSplit[i][j-1][0] == '\\\"') and (topoPilhaSplit[i][j+1][0] == '\\'')):                    \n",
    "                    print(topoPilhaSplit[i][j-1],\" EO-O \",topoPilhaSplit[i][j+1])\n",
    "                    return False\n",
    "                else:                                                                                                                 \n",
    "                    continue                                                                                                                      \n",
    "#     return True\n",
    "# print(operacaoStringNaoVar())\n",
    "# operação int com int\n",
    "def operacaoIntNaoVar():\n",
    "    variaveisArquivo = []\n",
    "    reversoListaVar = []\n",
    "    for i in range(len(topoPilhaSplit)): \n",
    "        for j in range(len(topoPilhaSplit[i])):\n",
    "            if (topoPilhaSplit[i][j] == 'int' or topoPilhaSplit[i][j] == 'string'):\n",
    "                variaveisArquivo.append( (topoPilhaSplit[i][j+1], topoPilhaSplit[i][j]) )\n",
    "                reversoListaVar=variaveisArquivo[::-1] # pegando as variáveis que primeiro aparecem do final para o início do arquivo\n",
    "# para pegar número ou um valor que não é variável nem número basta verificar se está na lista de variáveis\n",
    "# e se a posição inicial tem aspas(com isso caracterizo um valor que não é string nem número)\n",
    "    for i in range(len(topoPilhaSplit)): \n",
    "        for j in range(len(topoPilhaSplit[i])):                \n",
    "            if (topoPilhaSplit[i][j] == '+' or topoPilhaSplit[i][j] == '-' or topoPilhaSplit[i][j] == '*' or topoPilhaSplit[i][j] == '/'):\n",
    "#int d; ou d = string\n",
    "#\"3\" + 5 ; ou '3' + 5 ; ou \"d\" + 5 ; ou 'd' + 5 ; ou como 2° parâmetro\n",
    "\n",
    "                if  (topoPilhaSplit[i][j-1][0] == '\\\"' and (topoPilhaSplit[i][j-1][1].isdigit()) and not (topoPilhaSplit[i][j-1][1],'int') in reversoListaVar) or      (topoPilhaSplit[i][j+1][0] == '\\\"' and (topoPilhaSplit[i][j+1][1].isdigit()) and not (topoPilhaSplit[i][j+1][1],'int') in reversoListaVar) or     (topoPilhaSplit[i][j-1][0] == '\\'' and (topoPilhaSplit[i][j-1][1].isdigit()) and not (topoPilhaSplit[i][j-1][1],'int') in reversoListaVar) or      (topoPilhaSplit[i][j+1][0] == '\\'' and (topoPilhaSplit[i][j+1][1].isdigit()) and not (topoPilhaSplit[i][j+1][1],'int') in reversoListaVar)  or                   (topoPilhaSplit[i][j-1][0] == '\\\"' and (not topoPilhaSplit[i][j-1][1].isdigit()) and not (topoPilhaSplit[i][j-1][1],'int') in reversoListaVar) or      (topoPilhaSplit[i][j+1][0] == '\\\"' and (not topoPilhaSplit[i][j+1][1].isdigit()) and not (topoPilhaSplit[i][j+1][1],'int') in reversoListaVar) or     (topoPilhaSplit[i][j-1][0] == '\\'' and (not topoPilhaSplit[i][j-1][1].isdigit()) and not (topoPilhaSplit[i][j-1][1],'int') in reversoListaVar) or      (topoPilhaSplit[i][j+1][0] == '\\'' and (not topoPilhaSplit[i][j+1][1].isdigit()) and not (topoPilhaSplit[i][j+1][1],'int') in reversoListaVar)  :\n",
    "\n",
    "#                     print(topoPilhaSplit[i][j-1],\" EO-O \",topoPilhaSplit[i][j+1])\n",
    "                    return False\n",
    "                else:                                                                                                                 \n",
    "                    continue\n",
    "#     print(reversoListaVar)\n",
    "print(operacaoIntNaoVar())\n",
    "\n",
    "\n",
    "# caso string ++ e == \n",
    "def string_add():\n",
    "#     print(\"pilha \", topoPilhaSplit)\n",
    "    variaveisArquivo = []\n",
    "    for i in range(len(topoPilhaSplit)):\n",
    "        for j in range(len(topoPilhaSplit[i])):\n",
    "            if (topoPilhaSplit[i][j] == 'int' or topoPilhaSplit[i][j] == 'string'):\n",
    "                variaveisArquivo.append( (topoPilhaSplit[i][j+1], topoPilhaSplit[i][j]) )\n",
    "                reversoListaVar=variaveisArquivo[::-1] # pegando as variáveis que primeiro aparecem do final para o início do arquivo\n",
    "\n",
    "    for i in range(len(topoPilhaSplit)): \n",
    "        for j in range(len(topoPilhaSplit[i])):                \n",
    "            if (topoPilhaSplit[i][j] == '++' or topoPilhaSplit[i][j] == '=='):\n",
    "                if topoPilhaSplit[i][j-4] == 'int':\n",
    "                    return False\n",
    "                elif ((topoPilhaSplit[i][j-1], 'int') in reversoListaVar or (topoPilhaSplit[i][j+1], 'int') in reversoListaVar) or (not topoPilhaSplit[i][j-1][0] == '\\\"' and topoPilhaSplit[i][j-1][0].isdigit()) or (not topoPilhaSplit[i][j-1][0] == '\\'' and topoPilhaSplit[i][j-1][0].isdigit()) or (not topoPilhaSplit[i][j+1][0] == '\\\"' and topoPilhaSplit[i][j+1][0].isdigit()) or (not topoPilhaSplit[i][j+1][0] == '\\'' and topoPilhaSplit[i][j+1][0].isdigit()): \n",
    "\n",
    "                    print(topoPilhaSplit[i][j-1],\" ERRO ++ \",topoPilhaSplit[i][j+1])\n",
    "                    return False\n",
    "                else:           \n",
    "                    print(topoPilhaSplit[i][j-1],\" ++ \",topoPilhaSplit[i][j+1])\n",
    "                    continue                                                                                                                      \n",
    "    \n",
    "print(operacaoIntNaoVar())"
   ]
  },
  {
   "cell_type": "code",
   "execution_count": 9,
   "metadata": {
    "collapsed": false
   },
   "outputs": [
    {
     "name": "stdout",
     "output_type": "stream",
     "text": [
      "None\n",
      "None\n",
      "None\n"
     ]
    }
   ],
   "source": [
    "print(operacaoIntNaoVar())\n",
    "print(operacaoStringNaoVar())\n",
    "print(string_add())"
   ]
  },
  {
   "cell_type": "code",
   "execution_count": null,
   "metadata": {
    "collapsed": false
   },
   "outputs": [],
   "source": []
  },
  {
   "cell_type": "code",
   "execution_count": null,
   "metadata": {
    "collapsed": false
   },
   "outputs": [],
   "source": []
  },
  {
   "cell_type": "code",
   "execution_count": null,
   "metadata": {
    "collapsed": false
   },
   "outputs": [],
   "source": []
  },
  {
   "cell_type": "code",
   "execution_count": 10,
   "metadata": {
    "collapsed": false
   },
   "outputs": [],
   "source": [
    "# def usoDeclaracaoVar():\n",
    "#     variaveisArquivo = []\n",
    "#     for i in range(len(topoPilhaSplit)): \n",
    "#         for j in range(len(topoPilhaSplit[i])):\n",
    "#             if (topoPilhaSplit[i][j] == 'int' or topoPilhaSplit[i][j] == 'string'):\n",
    "#                 variaveisArquivo.append( (topoPilhaSplit[i][j+1], topoPilhaSplit[i][j]) )\n",
    "#                 reversoListaVar=variaveisArquivo[::-1] # pegando as variáveis que primeiro aparecem do final para o início do arquivo\n",
    "\n",
    "#     for i in range(len(topoPilhaSplit)): \n",
    "#         for j in range(len(topoPilhaSplit[i])):                \n",
    "#             if (topoPilhaSplit[i][j] == '+' or topoPilhaSplit[i][j] == '-' or topoPilhaSplit[i][j] == '*' or topoPilhaSplit[i][j] == '/'):\n",
    "#                 if ((topoPilhaSplit[i][j-1], 'int') in reversoListaVar and (topoPilhaSplit[i][j+1], 'int') in reversoListaVar):\n",
    "#                     print(topoPilhaSplit[i][j-1],\" OO \",topoPilhaSplit[i][j+1])\n",
    "#                     continue \n",
    "#                 else:\n",
    "#                     print(topoPilhaSplit[i][j-1],\" E00 \",topoPilhaSplit[i][j+1])\n",
    "#                     return False\n",
    "\n",
    "#     for i in range(len(topoPilhaSplit)): \n",
    "#         for j in range(len(topoPilhaSplit[i])):                \n",
    "#             if topoPilhaSplit[i][j] == '=':\n",
    "# # Esse caso fica fora                \n",
    "#                 if (((topoPilhaSplit[i][j-1], 'string') in reversoListaVar or  (not topoPilhaSplit[i][j-1].isdigit())  ) and topoPilhaSplit[i][j-2] == '=' and ((topoPilhaSplit[i][j-3], 'string') in reversoListaVar)) or (((topoPilhaSplit[i][j-1], 'int') in reversoListaVar or topoPilhaSplit[i][j-1].isdigit() ) and topoPilhaSplit[i][j-2] == '=' and ((topoPilhaSplit[i][j-3], 'int') in reversoListaVar)):                    \n",
    "#                     print(topoPilhaSplit[i][j-1],\" 11 \",topoPilhaSplit[i][j+1])\n",
    "#                     continue \n",
    "#                 else:\n",
    "#                     print(topoPilhaSplit[i][j-1],\" E11 \",topoPilhaSplit[i][j+1])\n",
    "#                     return False\n",
    "#     print(reversoListaVar)\n",
    "# #     return True\n",
    "# print(usoDeclaracaoVar())"
   ]
  },
  {
   "cell_type": "code",
   "execution_count": 11,
   "metadata": {
    "collapsed": false
   },
   "outputs": [
    {
     "name": "stdout",
     "output_type": "stream",
     "text": [
      "i\n"
     ]
    }
   ],
   "source": [
    "print(topoPilhaSplit[0][3][0])"
   ]
  },
  {
   "cell_type": "code",
   "execution_count": null,
   "metadata": {
    "collapsed": true
   },
   "outputs": [],
   "source": []
  },
  {
   "cell_type": "code",
   "execution_count": 12,
   "metadata": {
    "collapsed": false
   },
   "outputs": [],
   "source": [
    "\n",
    "# def usoDeclaracaoVar():\n",
    "#     variaveis = []\n",
    "#     for i in range(len(topoPilhaSplit)): \n",
    "#         for j in range(len(topoPilhaSplit[i])):\n",
    "# #             print(len(topoPilhaSplit[i][j]) , topoPilhaSplit[i][j])\n",
    "# #             print(\"pop \",topoPilhaSplit[i].pop())\n",
    "#             if (topoPilhaSplit[i][j] == 'int' or topoPilhaSplit[i][j] == 'string'):\n",
    "#                 variaveis.append( (topoPilhaSplit[i][j+1], topoPilhaSplit[i][j]) )\n",
    "#                 rev=variaveis[::-1] # pegando as variáveis que primeiro aparecem do final para o início do arquivo\n",
    "\n",
    "#     for i in range(len(topoPilhaSplit)): \n",
    "#         for j in range(len(topoPilhaSplit[i])):                \n",
    "#             if (topoPilhaSplit[i][j] == '+' or topoPilhaSplit[i][j] == '-' or topoPilhaSplit[i][j] == '*' or topoPilhaSplit[i][j] == '/'):\n",
    "# #                 print(topoPilhaSplit[i][j-1],\" op \",topoPilhaSplit[i][j+1])\n",
    "#                 if topoPilhaSplit[i][j-2] == '=':#((topoPilhaSplit[i][j-1], 'int') in rev and (topoPilhaSplit[i][j+1], 'int') in rev) or ((topoPilhaSplit[i][j-1], 'string') in rev and (topoPilhaSplit[i][j+1], 'string') in rev):\n",
    "#                     print(topoPilhaSplit[i][j-1],\" + \",topoPilhaSplit[i][j+1])\n",
    "#                 else:\n",
    "#                     return False\n",
    "            \n",
    "# #             if (topoPilhaSplit[i][j+1], 'int') in rev[]:\n",
    "# #                 print(\"i+1 \",topoPilhaSplit[i][j+1])\n",
    "            \n",
    "\n",
    "#     print(rev)\n",
    "# #     print(rev[0])\n",
    "                \n",
    "# print(usoDeclaracaoVar())\n",
    "\n",
    "# # print(topoPilhaSplit[7][0]== 'return')\n"
   ]
  },
  {
   "cell_type": "code",
   "execution_count": null,
   "metadata": {
    "collapsed": true
   },
   "outputs": [],
   "source": []
  },
  {
   "cell_type": "code",
   "execution_count": null,
   "metadata": {
    "collapsed": true
   },
   "outputs": [],
   "source": []
  },
  {
   "cell_type": "code",
   "execution_count": null,
   "metadata": {
    "collapsed": true
   },
   "outputs": [],
   "source": []
  },
  {
   "cell_type": "code",
   "execution_count": 13,
   "metadata": {
    "collapsed": false,
    "scrolled": true
   },
   "outputs": [],
   "source": [
    "# # Essa função vai ajudar a resolver o caso int X ( int a ) { } int Y ( int a ) { } \n",
    "# # Pois parâmetros de funções não interferem no escopo\n",
    "# def removeParam (str):\n",
    "#     i = 0\n",
    "#     lista=[]\n",
    "#     while i< len(lc):\n",
    "#         if lc[i] == 'string' or lc[i] == 'int' and lc[i+2] == ')':\n",
    "#             print(\"Aqui\")\n",
    "#             lc.remove(lc[i+1])\n",
    "#             lc.remove(lc[i+2])\n",
    "#             lista.append(lc)\n",
    "# #         print(lista)\n",
    "#         i = i+1    \n",
    "# print(lc)\n",
    "# print(\" \")\n",
    "# print(erro)\n",
    "# print(removeParam(lc))\n",
    "\n",
    "# # print(in0)\n"
   ]
  },
  {
   "cell_type": "code",
   "execution_count": 4,
   "metadata": {
    "collapsed": false
   },
   "outputs": [],
   "source": [
    "# restrição de que var globais tem de ser definidas no acima de todas as funções\n",
    "def verifica_var_escopo(str):\n",
    "    variaveis = []\n",
    "    funcoes = []\n",
    "    topoPilha = 0\n",
    "    varCode = lc\n",
    "    escopo = Pilha ()\n",
    "    escopoGlobal = Pilha ()\n",
    "    \n",
    "    escopos = [escopo]         # lista de pilhas\n",
    "    escoposG = [escopoGlobal]          # g0 = { a-> str, fun -> int}\n",
    "                                # g1 = g0 U {a-> int, b->int}\n",
    "                                # g0 U {a-> in, b->int, c->int}   \n",
    "    print(lc)\n",
    "    i = 0\n",
    "    while i< len(lc):\n",
    "        if (varCode[i] == \"string\") or varCode[i] == \"int\" and varCode[i+2] != \"(\":\n",
    "            if not (varCode[i+1], 'int', 'v') in escopos[topoPilha] and not (varCode[i+1], 'string', 'v') in escopos[topoPilha]:#  and not (varCode[i+2], ')') in escopos[topoPilha]:\n",
    "                if ((varCode[i] == \"string\") or varCode[i] == \"int\" and varCode[i+2] != \";\"): \n",
    "#                     break\n",
    "                    escopos[topoPilha].append( (varCode[i+1], varCode[i], 'v') ) # formato x, int não add var global primeiro\n",
    "                    \n",
    "#                     if (varCode[i+1], 'int') in escopos[topoPilha]:\n",
    "#                         print(\"AQUI\", escopos, varCode[i+1])   # acho q vai ajudar\n",
    "                    \n",
    "                    #  var escopo global # não preciso add também parâmetros\n",
    "                    #                     print(\"escopo \", escopos[topoPilha])\n",
    "                    variaveis.append(varCode[i+1])\n",
    "                    print(variaveis)\n",
    "            else:\n",
    "                variaveis.append(varCode[i+1]) # variável que está é igual ao topo\n",
    "                print(\"- \",variaveis)\n",
    "                print(\"Variável já declarada no escopo\")\n",
    "                return  True      \n",
    "        i += 1"
   ]
  },
  {
   "cell_type": "code",
   "execution_count": 5,
   "metadata": {
    "collapsed": false
   },
   "outputs": [
    {
     "name": "stdout",
     "output_type": "stream",
     "text": [
      "['int', 'fun', '(', 'int', 'a', ',', 'int', 'b', ')', '{', 'return', 'a', '+', 'b', ';', '}', 'int', 'main', '(', ')', '{', 'int', 'a', '=', '3', ';', 'd', '=', '9;', 'int', 'b', '=', '5', ';', 'int', 'c', '=', 'a', '+', 'b', ';', 'return', 'c', '+', 'fun', '(', 'a', ',', 'b', ')', ';', '}', 'int', 'd', ';']\n",
      "['a']\n",
      "['a', 'b']\n",
      "-  ['a', 'b', 'a']\n",
      "Variável já declarada no escopo\n",
      "True\n"
     ]
    }
   ],
   "source": [
    "print(verifica_var_escopo(lc)) # corrigir erro do tipo int X ( int a ) { } int Y ( int a ) { }\n",
    "# print(in0)"
   ]
  },
  {
   "cell_type": "code",
   "execution_count": null,
   "metadata": {
    "collapsed": false
   },
   "outputs": [],
   "source": []
  },
  {
   "cell_type": "code",
   "execution_count": 16,
   "metadata": {
    "collapsed": false
   },
   "outputs": [
    {
     "name": "stdout",
     "output_type": "stream",
     "text": [
      "None\n",
      "[deque([2, 4, 2])]\n",
      "deque([2, 4, 2])\n"
     ]
    }
   ],
   "source": [
    "l = [10,11,12,13,14,15]\n",
    "l2 = []\n",
    "p = Pilha()\n",
    "p.append(2)\n",
    "p.append(4)\n",
    "p.append(2)\n",
    "p.append(6)\n",
    "p.append(7)\n",
    "aux = p.pop()\n",
    "aux = p.pop()\n",
    "l2.append(p)\n",
    "l3 = l2.reverse()\n",
    "print(l3)\n",
    "print(l2)\n",
    "print(p)"
   ]
  },
  {
   "cell_type": "code",
   "execution_count": null,
   "metadata": {
    "collapsed": true
   },
   "outputs": [],
   "source": []
  },
  {
   "cell_type": "code",
   "execution_count": 17,
   "metadata": {
    "collapsed": false
   },
   "outputs": [],
   "source": [
    "# print(lc)\n",
    "# print(varInt)\n",
    "# print(varString)\n",
    "# print(listOpsAdd)\n",
    "# print(listOpsSub)\n",
    "# print(listOpsMul)\n",
    "# print(listOpsDiv)\n",
    "\n",
    "# # print(teste)\n",
    "# print(\" \"*116)\n",
    "# print(listaBloco)\n",
    "# # print(pilha)"
   ]
  },
  {
   "cell_type": "code",
   "execution_count": null,
   "metadata": {
    "collapsed": true
   },
   "outputs": [],
   "source": []
  },
  {
   "cell_type": "code",
   "execution_count": 18,
   "metadata": {
    "collapsed": false
   },
   "outputs": [],
   "source": [
    "# int + int senao false\n",
    "def operacaoInt():\n",
    "    variaveisArquivo = []\n",
    "    for i in range(len(topoPilhaSplit)): \n",
    "        for j in range(len(topoPilhaSplit[i])):\n",
    "            if (topoPilhaSplit[i][j] == 'int' or topoPilhaSplit[i][j] == 'string'):\n",
    "                variaveisArquivo.append( (topoPilhaSplit[i][j+1], topoPilhaSplit[i][j]) )\n",
    "                reversoListaVar=variaveisArquivo[::-1] # pegando as variáveis que primeiro aparecem do final para o início do arquivo\n",
    "\n",
    "    for i in range(len(topoPilhaSplit)): \n",
    "        for j in range(len(topoPilhaSplit[i])):                \n",
    "            if (topoPilhaSplit[i][j] == '+' or topoPilhaSplit[i][j] == '-' or topoPilhaSplit[i][j] == '*' or topoPilhaSplit[i][j] == '/'):\n",
    "                if ((topoPilhaSplit[i][j-1], 'int') in reversoListaVar and (topoPilhaSplit[i][j+1], 'string') in reversoListaVar) or ((topoPilhaSplit[i][j-1], 'string') in reversoListaVar and (topoPilhaSplit[i][j+1], 'int') in reversoListaVar):                    \n",
    "#                     print(topoPilhaSplit[i][j-1],\" EO-O \",topoPilhaSplit[i][j+1])\n",
    "                    return False\n",
    "                else:                                                                                                                 \n",
    "                    continue                                                                                                                      \n",
    "#     print(reversoListaVar)\n",
    "#     return True\n",
    "# print(operacaoInt())\n",
    "\n",
    "#int a = int + int senao false\n",
    "def operacaoInt2():\n",
    "    variaveisArquivo = []\n",
    "    for i in range(len(topoPilhaSplit)): \n",
    "        for j in range(len(topoPilhaSplit[i])):\n",
    "            if (topoPilhaSplit[i][j] == 'int' or topoPilhaSplit[i][j] == 'string'):\n",
    "                variaveisArquivo.append( (topoPilhaSplit[i][j+1], topoPilhaSplit[i][j]) )\n",
    "                reversoListaVar=variaveisArquivo[::-1] # pegando as variáveis que primeiro aparecem do final para o início do arquivo\n",
    "\n",
    "    for i in range(len(topoPilhaSplit)): \n",
    "        for j in range(len(topoPilhaSplit[i])):                \n",
    "            if (topoPilhaSplit[i][j] == '+' or topoPilhaSplit[i][j] == '-' or topoPilhaSplit[i][j] == '*' or topoPilhaSplit[i][j] == '/'):\n",
    "                if ((topoPilhaSplit[i][j-1], 'int') in reversoListaVar and (topoPilhaSplit[i][j-3], 'string') in reversoListaVar) or ((topoPilhaSplit[i][j-2], 'int') in reversoListaVar and (topoPilhaSplit[i][j-3], 'string') in reversoListaVar):\n",
    "#                     print(topoPilhaSplit[i][j-3],\" EO-1 \",topoPilhaSplit[i][j-1], topoPilhaSplit[i][j+1])\n",
    "                    return False                \n",
    "                else:\n",
    "                    continue                \n",
    "#     print(reversoListaVar)\n",
    "#     return True\n",
    "# print(operacaoInt2())\n",
    "\n",
    "# string a =  int\n",
    "def caseStringIgualInt():\n",
    "    variaveisArquivo = []\n",
    "    for i in range(len(topoPilhaSplit)): \n",
    "        for j in range(len(topoPilhaSplit[i])):\n",
    "            if (topoPilhaSplit[i][j] == 'int' or topoPilhaSplit[i][j] == 'string'):\n",
    "                variaveisArquivo.append( (topoPilhaSplit[i][j+1], topoPilhaSplit[i][j]) )\n",
    "                reversoListaVar=variaveisArquivo[::-1] # pegando as variáveis que primeiro aparecem do final para o início do arquivo\n",
    "\n",
    "    for i in range(len(topoPilhaSplit)): \n",
    "        for j in range(len(topoPilhaSplit[i])):                \n",
    "\n",
    "            if topoPilhaSplit[i][j] == '=':\n",
    "                if topoPilhaSplit[i][j-2] == 'int':\n",
    "                        continue\n",
    "\n",
    "                # caso string recebe int: string a = 3\n",
    "                elif (topoPilhaSplit[i][j+1][0] == '\\\"' and (topoPilhaSplit[i][j-1], 'string') in reversoListaVar) or (topoPilhaSplit[i][j+1][0] == '\\'' and ((topoPilhaSplit[i][j-1], 'string') in reversoListaVar)):\n",
    "#                     print(topoPilhaSplit[i][j-1],\" 22 \",topoPilhaSplit[i][j+1])\n",
    "                    continue \n",
    "                else:\n",
    "                    print(\"ERRO \",topoPilhaSplit[i][j-1],\" E22 \",topoPilhaSplit[i][j+1]) \n",
    "                    return False\n",
    "                \n",
    "#     print(reversoListaVar)\n",
    "#     return True\n",
    "# print(caseStringIgualInt())\n",
    "\n",
    "# int a  =  string\n",
    "def caseIntIgualString():\n",
    "    variaveisArquivo = []\n",
    "    for i in range(len(topoPilhaSplit)): \n",
    "        for j in range(len(topoPilhaSplit[i])):\n",
    "            if (topoPilhaSplit[i][j] == 'int' or topoPilhaSplit[i][j] == 'string'):\n",
    "                variaveisArquivo.append( (topoPilhaSplit[i][j+1], topoPilhaSplit[i][j]) )\n",
    "                reversoListaVar=variaveisArquivo[::-1] # pegando as variáveis que primeiro aparecem do final para o início do arquivo\n",
    "\n",
    "    for i in range(len(topoPilhaSplit)): \n",
    "        for j in range(len(topoPilhaSplit[i])):                \n",
    "\n",
    "            if topoPilhaSplit[i][j] == '=':\n",
    "                if topoPilhaSplit[i][j-2] == 'string':\n",
    "                    continue\n",
    "                # caso int recebe string: int a = \"3\"\n",
    "                elif (topoPilhaSplit[i][j+1][0] == '\\\"' and ((topoPilhaSplit[i][j-1], 'int') in reversoListaVar)) or (topoPilhaSplit[i][j+1][0] == '\\'' and ((topoPilhaSplit[i][j-1], 'int') in reversoListaVar)):                    \n",
    "#                     print(\"ERRO \",topoPilhaSplit[i][j-1],\" E11 \",topoPilhaSplit[i][j+1], topoPilhaSplit[i][j+1][0]) \n",
    "                    return False\n",
    "                else:\n",
    "#                     print(topoPilhaSplit[i][j-1],\" 11 \",topoPilhaSplit[i][j+1], topoPilhaSplit[i][j+1][0]  )\n",
    "                    continue \n",
    "#     print(reversoListaVar)\n",
    "#     return True\n",
    "# print(caseIntIgualString())\n",
    "\n",
    "\n",
    "\n",
    "\n",
    "# string +-*/ string é pra dá erro\n",
    "def operacaoString():\n",
    "    variaveisArquivo = []\n",
    "    for i in range(len(topoPilhaSplit)): \n",
    "        for j in range(len(topoPilhaSplit[i])):\n",
    "            if (topoPilhaSplit[i][j] == 'int' or topoPilhaSplit[i][j] == 'string'):\n",
    "                variaveisArquivo.append( (topoPilhaSplit[i][j+1], topoPilhaSplit[i][j]) )\n",
    "                reversoListaVar=variaveisArquivo[::-1] # pegando as variáveis que primeiro aparecem do final para o início do arquivo\n",
    "\n",
    "    for i in range(len(topoPilhaSplit)): \n",
    "        for j in range(len(topoPilhaSplit[i])):                \n",
    "            if (topoPilhaSplit[i][j] == '+' or topoPilhaSplit[i][j] == '-' or topoPilhaSplit[i][j] == '*' or topoPilhaSplit[i][j] == '/'):\n",
    "                if ((topoPilhaSplit[i][j-1], 'string') in reversoListaVar and (topoPilhaSplit[i][j+1], 'string') in reversoListaVar) or ((topoPilhaSplit[i][j-1], 'string') in reversoListaVar and (topoPilhaSplit[i][j+1], 'int') in reversoListaVar):                    \n",
    "                    print(topoPilhaSplit[i][j-1],\" EStrO-O \",topoPilhaSplit[i][j+1])\n",
    "                    return False\n",
    "                else:                                                                                                                 \n",
    "                    continue                                                                                                                      \n",
    "    print(reversoListaVar)\n",
    "#     return True\n",
    "# print(operacaoString())\n",
    "\n"
   ]
  },
  {
   "cell_type": "code",
   "execution_count": 19,
   "metadata": {
    "collapsed": false
   },
   "outputs": [
    {
     "name": "stdout",
     "output_type": "stream",
     "text": [
      "[('a5', 'string'), ('Pun', 'int'), ('v', 'int'), ('v2', 'int'), ('x4', 'int'), ('Lun', 'string')]\n",
      "Sucesso\n"
     ]
    }
   ],
   "source": [
    "def analisadorDeTipos():\n",
    "    if not operacaoString():\n",
    "        return \"Sucesso\"\n",
    "    else:\n",
    "        return \"Erro\"\n",
    "    \n",
    "print(analisadorDeTipos())\n",
    "# print(caseIntIgualString())"
   ]
  },
  {
   "cell_type": "code",
   "execution_count": 20,
   "metadata": {
    "collapsed": false
   },
   "outputs": [],
   "source": [
    "# falta pegar operações entre inteiros ou string\n",
    "# 3 + 4 ou # '4' + 5"
   ]
  },
  {
   "cell_type": "code",
   "execution_count": null,
   "metadata": {
    "collapsed": false
   },
   "outputs": [],
   "source": []
  },
  {
   "cell_type": "code",
   "execution_count": null,
   "metadata": {
    "collapsed": false
   },
   "outputs": [],
   "source": []
  },
  {
   "cell_type": "code",
   "execution_count": 21,
   "metadata": {
    "collapsed": false
   },
   "outputs": [
    {
     "name": "stdout",
     "output_type": "stream",
     "text": [
      "[deque([(1, 'int'), (2, 'string')]), deque([(3, 'string')])]\n",
      "True\n"
     ]
    }
   ],
   "source": [
    "b = (1, 'int')\n",
    "c = (2, 'string')\n",
    "d = (3, 'string')\n",
    "a = Pilha()\n",
    "a2 = Pilha()\n",
    "\n",
    "f = Pilha()\n",
    "a.append(b)\n",
    "a.append(c)\n",
    "a2.append(d)\n",
    "\n",
    "e =[a, a2]\n",
    "\n",
    "# print(a)\n",
    "e\n",
    "print(e)\n",
    "# print(e.pop())\n",
    "# print(e)\n",
    "print((2, 'string') in e[0])"
   ]
  },
  {
   "cell_type": "code",
   "execution_count": null,
   "metadata": {
    "collapsed": true
   },
   "outputs": [],
   "source": []
  },
  {
   "cell_type": "code",
   "execution_count": 22,
   "metadata": {
    "collapsed": false
   },
   "outputs": [],
   "source": [
    "# print(teste)\n",
    "# print(\" \"*116)\n",
    "# print(listOpsAdd)\n",
    "# print(listOpsSub)\n",
    "# print(listOpsMul)\n",
    "# print(listOpsDiv)\n",
    "# print(verificaOpInt(teste))\n",
    "\n",
    "# print(\"int \",varInt)\n",
    "# print(\"string \",varString)\n",
    "\n"
   ]
  },
  {
   "cell_type": "code",
   "execution_count": 6,
   "metadata": {
    "collapsed": false
   },
   "outputs": [
    {
     "name": "stdout",
     "output_type": "stream",
     "text": [
      "(2, 2) (0, 3)\n",
      "A variável  a  foi declarada antes de ser usada:  a  tem índice  (2, 2)  a declaração dela tem índice  (5, 0)\n",
      "False\n"
     ]
    }
   ],
   "source": [
    "# III. Se as variáveis (e funções) estão sendo usadas sem serem declaradas.\n",
    "def var_func_ordem_declaracao():\n",
    "    variaveisArquivo = []\n",
    "    funcArquivo = []\n",
    "    reversoListaVar = []\n",
    "    indicesFunc = []\n",
    "    indicesVar = []\n",
    "    \n",
    "    topoPilha = 0\n",
    "# Pegando todas as funções e colocando eles em uma lista na ordem que são declaradas    \n",
    "    for i in range(len(topoPilhaSplit)): \n",
    "        for j in range(len(topoPilhaSplit[i])):\n",
    "            if (topoPilhaSplit[i][j] == 'int' or topoPilhaSplit[i][j] == 'string') and topoPilhaSplit[i][j+2] == '(':\n",
    "                    funcArquivo.append( (topoPilhaSplit[i][j+1]) )\n",
    "                    indicesFunc.append((i,j))\n",
    "# Pegando todas as variáveis e colocando eles em uma lista na ordem que são declaradas    \n",
    "    for i in range(len(topoPilhaSplit)): \n",
    "        for j in range(len(topoPilhaSplit[i])):\n",
    "            if (topoPilhaSplit[i][j] == 'int' or topoPilhaSplit[i][j] == 'string') and not topoPilhaSplit[i][j+2] == '(':\n",
    "                    variaveisArquivo.append( (topoPilhaSplit[i][j+1] ) )\n",
    "                    indicesVar.append((i,j))\n",
    "                    reversoListaVar=variaveisArquivo[::-1] \n",
    "\n",
    "# Verificando se as funções estão sendo declaradas antes de serem usadas\n",
    "    for i in range(len(topoPilhaSplit)): \n",
    "        for j in range(len(topoPilhaSplit[i])):\n",
    "            if topoPilhaSplit[i][j] == '(':\n",
    "                # pegando declarações de funções\n",
    "                if not (topoPilhaSplit[i][j-2] == 'int') and not(topoPilhaSplit[i][j-2] == 'string'):\n",
    "                    for k in range(len(indicesFunc)):\n",
    "                        if topoPilhaSplit[i][j-1] == funcArquivo[k]: # quando encontro uma função declarada\n",
    "                            if (i,j) > indicesFunc[k]: # vejo se ela e declarada antes\n",
    "#                                 print((i,j), indicesFunc[k])\n",
    "                                continue\n",
    "                            else:\n",
    "                                print(\"A função \", topoPilhaSplit[i][j-1], \" foi declarada antes de ser usada: \", topoPilhaSplit[i][j-1], \" tem índice \", (i,j), \" a declaração dela tem índice \", indicesFunc[k])\n",
    "                                return False\n",
    "\n",
    "# verificando se as variáveis estão sendo declaradas antes de serem usadas\n",
    "    for i in range(len(topoPilhaSplit)): \n",
    "        for j in range(len(topoPilhaSplit[i])):\n",
    "            if topoPilhaSplit[i][j] != '(':\n",
    "                # pegando declarações de var\n",
    "                if not (topoPilhaSplit[i][j-2] == 'int') and not(topoPilhaSplit[i][j-2] == 'string'):\n",
    "                    for k in range(len(indicesVar)):\n",
    "                        if topoPilhaSplit[i][j-1] == variaveisArquivo[k]: # quando encontro uma variável declarada\n",
    "                            if (i,j) > indicesVar[k]: # vejo se ela e declarada antes\n",
    "                                print((i,j), indicesVar[k])\n",
    "                                continue\n",
    "                            else:\n",
    "                                print(\"A variável \", topoPilhaSplit[i][j-1], \" foi declarada antes de ser usada: \", topoPilhaSplit[i][j-1], \" tem índice \", (i,j), \" a declaração dela tem índice \", indicesVar[k])\n",
    "                                return False\n",
    "\n",
    "\n",
    "#     print(reversoListaVar)\n",
    "    \n",
    "print(var_func_ordem_declaracao())"
   ]
  },
  {
   "cell_type": "code",
   "execution_count": null,
   "metadata": {
    "collapsed": false
   },
   "outputs": [],
   "source": []
  },
  {
   "cell_type": "code",
   "execution_count": null,
   "metadata": {
    "collapsed": false
   },
   "outputs": [],
   "source": []
  },
  {
   "cell_type": "code",
   "execution_count": null,
   "metadata": {
    "collapsed": true
   },
   "outputs": [],
   "source": []
  },
  {
   "cell_type": "code",
   "execution_count": null,
   "metadata": {
    "collapsed": true
   },
   "outputs": [],
   "source": []
  },
  {
   "cell_type": "code",
   "execution_count": 24,
   "metadata": {
    "collapsed": true
   },
   "outputs": [],
   "source": [
    "# def teste(str):\n",
    "#     variaveis = []\n",
    "#     funcoes = []\n",
    "#     topoPilha = 0\n",
    "#     varCode = lc\n",
    "#     escopo = Pilha ()\n",
    "    \n",
    "#     escopos = [escopo]         # lista de pilhas\n",
    "#     i = 0\n",
    "#     print(lc)\n",
    "#     while i< len(lc):\n",
    "#         if (varCode[i] == \"string\") or varCode[i] == \"int\" and varCode[i+2] != \"(\":\n",
    "#             if not (varCode[i+1], 'int') in escopos[topoPilha] and not (varCode[i+1], 'string') in escopos[topoPilha]:#  and not (varCode[i+2], ')') in escopos[topoPilha]:\n",
    "#                  if ((varCode[i] == \"string\") or varCode[i] == \"int\" and varCode[i+2] != \";\"): \n",
    "# #                     if 'int ' +varCode[i]+ ' ( string ' +varCode[2]+ ' ,  string '+varCode[5] +')' in erro: #in0: \n",
    "#                     escopos[topoPilha].append( (varCode[i+1], varCode[i]) ) # formato x, int não add var global primeiro\n",
    "\n",
    "#                     variaveis.append(varCode[i+1])\n",
    "#                     print(variaveis)\n",
    "#             else:\n",
    "#                 variaveis.append(varCode[i+1]) # variável que está é igual ao topo\n",
    "#                 print(\"- \",variaveis)\n",
    "#                 print(\"Variável já declarada no escopo\")\n",
    "#                 return  True      \n",
    "#         i += 1\n",
    "# print(teste(lc))      \n",
    "# # print(in0)"
   ]
  },
  {
   "cell_type": "code",
   "execution_count": 25,
   "metadata": {
    "collapsed": true
   },
   "outputs": [],
   "source": [
    "# ##                                   Funções para retornar os tipos das variáveis\n",
    "\n",
    "# # variáveis do tipo int\n",
    "# def intCodI(str):\n",
    "#     lv = {}\n",
    "#     for i in range(len(lc)):\n",
    "#         if (lc[i] == 'int' and lc[i+2] == ')') or (lc[i] == 'int' and lc[i+2] == '=') or (lc[i] == 'int' and lc[i+2] == ',') or (lc[i] == 'int' and lc[i+2] == ';'):\n",
    "# #             print(lc[i+1])\n",
    "#             lv[i] = (lc[i+1], lc[i],'var') # chave, valor\n",
    "    \n",
    "#     return lv\n",
    "# varInt = np.array(intCodI(lc))\n",
    "# # função do tipo int\n",
    "# def intFunc(str):\n",
    "#     lv = {}\n",
    "#     for i in range(len(lc)):\n",
    "#         if lc[i] == 'int' and lc[i+2] == '(':\n",
    "# #             print(lc[i+1])\n",
    "#             lv[i] = (lc[i+1], lc[i],'func') # chave, valor\n",
    "#     return lv\n",
    "# funcInt = np.array(intCodI(lc))\n",
    "\n",
    "# # variáveis do tipo string\n",
    "# def intCodS(str):\n",
    "#     ls = {}\n",
    "#     for i in range(len(lc)):\n",
    "#         if lc[i] == 'string':\n",
    "# #             print(lc[i])\n",
    "#             ls[i] = lc[i+1]\n",
    "#         if lc[i] == '}': # nesse teste verifico os blocos, se tiver um } é por que tem um bloco\n",
    "#             ls[i] = '#' \n",
    "#     return ls\n",
    "# varString = np.array(intCodS(lc))\n",
    "\n",
    "\n",
    "# ##                                   funções para verificar se as operações usam tipos compatíveis; \n",
    "# def verificaOpAdd(str):\n",
    "#     varIntOp = []\n",
    "#     for i in range(len(lc)):\n",
    "#         if lc[i] == '+':\n",
    "#             varIntOp.append(lc[i])\n",
    "#             varIntOp.append(lc[i-1])\n",
    "#             varIntOp.append(lc[i+1])\n",
    "#             varIntOp.append(\"#\")\n",
    "#     return varIntOp\n",
    "# listOpsAdd = np.array(verificaOpAdd(lc))\n",
    "\n",
    "# def verificaOpSub(str):\n",
    "#     varSubOp = []\n",
    "#     for i in range(len(lc)):\n",
    "#         if lc[i] == '-':\n",
    "#             varSubOp.append(lc[i])\n",
    "#             varSubOp.append(lc[i-1])\n",
    "#             varSubOp.append(lc[i+1])\n",
    "#             varSubOp.append(\"#\")\n",
    "#     return varSubOp\n",
    "# listOpsSub = np.array(verificaOpSub(lc))\n",
    "\n",
    "# def verificaOpMul(str):\n",
    "#     varMulOp = []\n",
    "#     for i in range(len(lc)):\n",
    "#         if lc[i] == '-':\n",
    "#             varMulOp.append(lc[i])\n",
    "#             varMulOp.append(lc[i-1])\n",
    "#             varMulOp.append(lc[i+1])\n",
    "#             varMulOp.append(\"#\")\n",
    "#     return varMulOp\n",
    "# listOpsMul = np.array(verificaOpMul(lc))\n",
    "\n",
    "# def verificaOpDiv(str):\n",
    "#     varDivOp = []\n",
    "#     for i in range(len(lc)):\n",
    "#         if lc[i] == '-':\n",
    "#             varDivOp.append(lc[i])\n",
    "#             varDivOp.append(lc[i-1])\n",
    "#             varDivOp.append(lc[i+1])\n",
    "#             varDivOp.append(\"#\")\n",
    "#     return varDivOp\n",
    "# listOpsDiv = np.array(verificaOpDiv(lc))\n",
    "# ##                                   VERIFICANDO se as operações usam tipos compatíveis; \n",
    "\n",
    "        \n"
   ]
  }
 ],
 "metadata": {
  "kernelspec": {
   "display_name": "Python 3",
   "language": "python",
   "name": "python3"
  },
  "language_info": {
   "codemirror_mode": {
    "name": "ipython",
    "version": 3
   },
   "file_extension": ".py",
   "mimetype": "text/x-python",
   "name": "python",
   "nbconvert_exporter": "python",
   "pygments_lexer": "ipython3",
   "version": "3.5.2"
  }
 },
 "nbformat": 4,
 "nbformat_minor": 2
}
