{
 "cells": [
  {
   "cell_type": "code",
   "execution_count": 7,
   "metadata": {
    "collapsed": false
   },
   "outputs": [
    {
     "name": "stdout",
     "output_type": "stream",
     "text": [
      "None\n"
     ]
    }
   ],
   "source": [
    "#-*- coding: utf-8 -*-\n",
    "#!/usr/bin/env python\n",
    "import pandas as pd\n",
    "import numpy as np\n",
    "from copy import copy\n",
    "from copy import deepcopy\n",
    "import fileinput\n",
    "from collections import deque as Pilha\n",
    "from itertools import chain # pra transformar lista de lista em lista\n",
    "from collections import *\n",
    "\n",
    "\n",
    "# Função que retorna uma lista com cada palavra do código\n",
    "def splitCod(str):\n",
    "    l = []\n",
    "#     print(str.split())\n",
    "    l.append(str.split())\n",
    "    return l[0] # pra ser somente uma lista\n",
    "# lc = splitCod(in0)\n",
    "topoPilhaSplit = Pilha ()\n",
    "def arquivo(str):\n",
    "    p = Pilha()\n",
    "#     topoPilhaSplit = Pilha () # para pegar a linha no topo da pilha com split \n",
    "    topoPilha = 0\n",
    "    arq = open(str, 'r')\n",
    "    texto = arq.readlines()\n",
    "#     print(len(texto))\n",
    "    for linha in texto :\n",
    "        p.append(linha)\n",
    "#         print(p)\n",
    "        topoPilhaSplit.append(splitCod(linha))\n",
    "    arq.close()\n",
    "    \n",
    "print(arquivo('saida.txt'))\n",
    "\n",
    "\n",
    "listaArquivoLinha = []\n",
    "def arquivoPraLinha(str):\n",
    "    i = 0\n",
    "    p = Pilha()\n",
    "    arq = open(str, 'r')\n",
    "    texto = arq.readlines()\n",
    "#     print(len(texto))\n",
    "    for linha in texto :\n",
    "        p.append(linha)\n",
    "        listaArquivoLinha.append(splitCod(linha))\n",
    "\n",
    "    novaListaArquivoLinha = list(chain(*listaArquivoLinha))\n",
    "\n",
    "#     print (novaListaArquivoLinha); \n",
    "    arq.close()\n",
    "    return novaListaArquivoLinha\n",
    "# print(arquivoPraLinha('saida.txt'))\n"
   ]
  },
  {
   "cell_type": "code",
   "execution_count": null,
   "metadata": {
    "collapsed": true
   },
   "outputs": [],
   "source": []
  },
  {
   "cell_type": "code",
   "execution_count": 8,
   "metadata": {
    "collapsed": false
   },
   "outputs": [
    {
     "name": "stdout",
     "output_type": "stream",
     "text": [
      "None\n"
     ]
    }
   ],
   "source": [
    "##                               FEITO\n",
    "\n",
    "lc = arquivoPraLinha('saida.txt')\n",
    "todasFuncoesArquivo = []\n",
    "paramFuncArquivo = []\n",
    "def escopo_func_var():\n",
    "    varCode = lc\n",
    "# Pegando todas as funções com seus parâmetros e colocando eles em uma lista na ordem que são declaradas    \n",
    "    for i in range(len(topoPilhaSplit)): \n",
    "        for j in range(len(topoPilhaSplit[i])):\n",
    "            if (topoPilhaSplit[i][j] == 'int' or topoPilhaSplit[i][j] == 'string') and topoPilhaSplit[i][j+2] == '(' and topoPilhaSplit[i][j+3] == ')': \n",
    "                todasFuncoesArquivo.append((topoPilhaSplit[i][j], topoPilhaSplit[i][j+1], (( )))) # add func e param            \n",
    "            if ((topoPilhaSplit[i][j] == 'int' or topoPilhaSplit[i][j] == 'string') and topoPilhaSplit[i][j+2] == '(' and (topoPilhaSplit[i][j+3] == 'int' or topoPilhaSplit[i][j+3] == 'string') and topoPilhaSplit[i][j+5] ==')' ):\n",
    "                todasFuncoesArquivo.append((topoPilhaSplit[i][j], topoPilhaSplit[i][j+1], ( topoPilhaSplit[i][j+3] ,( ) ))) # add func e param\n",
    "            if ((topoPilhaSplit[i][j] == 'int' or topoPilhaSplit[i][j] == 'string') and topoPilhaSplit[i][j+2] == '(' and (topoPilhaSplit[i][j+3] == 'int' or topoPilhaSplit[i][j+3] == 'string') and (topoPilhaSplit[i][j+6] == 'int' or topoPilhaSplit[i][j+6] == 'string') and topoPilhaSplit[i][j+8] ==')' ):\n",
    "                todasFuncoesArquivo.append((topoPilhaSplit[i][j], topoPilhaSplit[i][j+1], ( topoPilhaSplit[i][j+3] , topoPilhaSplit[i][j+6] ))) # add func e param\n",
    "\n",
    "    # Pegando todos os parâmetros e colocando eles em uma lista na ordem que são declaradas    \n",
    "    for i2 in range(len(topoPilhaSplit)): \n",
    "        for j2 in range(len(topoPilhaSplit[i2])):\n",
    "            if ((topoPilhaSplit[i2][j2] == 'int' or topoPilhaSplit[i2][j2] == 'string') and topoPilhaSplit[i2][j2+2] == '(' and (topoPilhaSplit[i2][j2+3] == 'int' or topoPilhaSplit[i2][j2+3] == 'string') and topoPilhaSplit[i2][j2+5] ==')' ):\n",
    "                paramFuncArquivo.append(( (topoPilhaSplit[i2][j2+3], topoPilhaSplit[i2][j2+4]) ,( ), i2 ))\n",
    "                # add o param e a linha que aparece\n",
    "            elif ((topoPilhaSplit[i2][j2] == 'int' or topoPilhaSplit[i2][j2] == 'string') and topoPilhaSplit[i2][j2+2] == '(' and (topoPilhaSplit[i2][j2+3] == 'int' or topoPilhaSplit[i2][j2+3] == 'string') and (topoPilhaSplit[i2][j2+6] == 'int' or topoPilhaSplit[i2][j2+6] == 'string') and topoPilhaSplit[i2][j2+8] ==')' ):\n",
    "                paramFuncArquivo.append(( (topoPilhaSplit[i2][j2+3], topoPilhaSplit[i2][j2+4] )  , (topoPilhaSplit[i2][j2+6],topoPilhaSplit[i2][j2+7] ), i2 )) # add os param's e a linha que aparece\n",
    "            else: # senão add o totalde func do arquivo. Fica casos repetidos.\n",
    "                continue\n",
    "    for i3 in  range(len(varCode)):\n",
    "        if (varCode[i3] == \"string\" or varCode[i3] == \"int\") and (varCode[i3+2] == \"(\" and varCode[i3+3] == \")\") : # ex: int X ( \n",
    "            if not varCode[i3]== \"}\":\n",
    "                if varCode[i3]== \"}\":\n",
    "                    print(\"1p \",i3)\n",
    "#             else:\n",
    "#                 print(\"nada \",i3)\n",
    "#     print(\"func \",todasFuncoesArquivo)\n",
    "#     print(\" \"*10)\n",
    "#     print(\"param \",paramFuncArquivo)\n",
    "            \n",
    "\n",
    "print(escopo_func_var())\n",
    "# print(topoPilhaSplit)\n",
    "# print(lc)"
   ]
  },
  {
   "cell_type": "code",
   "execution_count": null,
   "metadata": {
    "collapsed": false
   },
   "outputs": [],
   "source": []
  },
  {
   "cell_type": "code",
   "execution_count": null,
   "metadata": {
    "collapsed": false
   },
   "outputs": [],
   "source": []
  },
  {
   "cell_type": "code",
   "execution_count": null,
   "metadata": {
    "collapsed": false
   },
   "outputs": [],
   "source": []
  },
  {
   "cell_type": "code",
   "execution_count": null,
   "metadata": {
    "collapsed": false
   },
   "outputs": [],
   "source": []
  },
  {
   "cell_type": "code",
   "execution_count": 3,
   "metadata": {
    "collapsed": true
   },
   "outputs": [],
   "source": [
    "\n",
    "# # Verificando se a função tem o mesmo tipo do retorno\n",
    "#     for i in range(len(topoPilhaSplit)): \n",
    "#         for j in range(len(topoPilhaSplit[i])):\n",
    "#             if topoPilhaSplit[i][j] == 'return':\n",
    "#                 if topoPilhaSplit[i][j+1] in variaveisArquivo and (topoPilhaSplit[i][j+2] == \"+\" or topoPilhaSplit[i][j+2] == \"*\" or topoPilhaSplit[i][j+2] == \"-\" or topoPilhaSplit[i][j+2] == \"/\") and topoPilhaSplit[i][j+3] in variaveisArquivo and topoPilhaSplit[i][j+4] == ';' or topoPilhaSplit[i][j+1] in variaveisArquivo and topoPilhaSplit[i][j+2] == ';' : # retorno só com um parâmetro\n",
    "# #                     pegando declarações de funções\n",
    "# #                     if (topoPilhaSplit[i][j] == funcArquivoPilha[0][0]  ): # se o retorno da função X é do mesmo tipo da função X. ok\n",
    "#                     for h in range(len(varParametrosReturn)):\n",
    "# #                         if varParametrosReturn[h] in funcArquivo:\n",
    "#                         print(\"> \", varParametrosReturn[h], funcArquivo)\n",
    "                                \n",
    "#                         for k in range(len(indicesFunc)):\n",
    "#                             if topoPilhaSplit[i][j+2] == funcArquivoUmParam[k]: # quando encontro uma função declarada\n",
    "#                                     print(\"int pass \")\n",
    "#                                     continue\n",
    "#                             else:\n",
    "#                                 print(\"Erro Int\")\n",
    "#                                 return False\n",
    "#                     if (topoPilhaSplit[i][j+2] == 'string'):\n",
    "#                         for k in range(len(indicesFunc)):\n",
    "#                             if topoPilhaSplit[i][j+2] == funcArquivoUmParam[k]: # quando encontro uma função declarada\n",
    "#                                     print(\"string pass \")\n",
    "#                                     continue\n",
    "#                             else:\n",
    "#                                 print(\"Erro String\")\n",
    "#                                 return False\n",
    "#             else:\n",
    "#                 continue\n"
   ]
  },
  {
   "cell_type": "code",
   "execution_count": 4,
   "metadata": {
    "collapsed": true
   },
   "outputs": [],
   "source": [
    "#  # rascunho **       \n",
    "#     qntFunc = 0\n",
    "#     auxFunc = Pilha()\n",
    "#     contador = Counter() \n",
    "#     for k1 in funcArquivo:\n",
    "#         contador[k1] += 1\n",
    "\n",
    "#     # # Vendo se a função é repetida\n",
    "#     for i in range(len(topoPilhaSplit)): \n",
    "#         for j in range(len(topoPilhaSplit[i])):\n",
    "#             if (topoPilhaSplit[i][j] == 'int' or topoPilhaSplit[i][j] == 'string') and topoPilhaSplit[i][j+2] == '(':\n",
    "#                     for k in range(len(funcArquivo)): # comparando as funções \n",
    "#                         if topoPilhaSplit[i][j+1] == funcArquivoComParametro[k]: # Func = Func\n",
    "#                             if (topoPilhaSplit[i][j],topoPilhaSplit[i][j+1]) in contador and topoPilhaSplit[i][j+2]== '(' and topoPilhaSplit[i][j+3]== ')':\n",
    "#                                 qntFunc = qntFunc +1\n",
    "#                                 auxFunc.append((topoPilhaSplit[i][j],topoPilhaSplit[i][j+1]))\n",
    "#                                 if (auxFunc[0] != (topoPilhaSplit[i][j],topoPilhaSplit[i][j+1])):\n",
    "#                                     qntFunc = qntFunc + 1\n",
    "#                                     print(\"Topo \", auxFunc[0],\" :: \", (topoPilhaSplit[i][j],topoPilhaSplit[i][j+1]), qntFunc )\n",
    "\n",
    "#                                 if (auxFunc[0] == (topoPilhaSplit[i][j],topoPilhaSplit[i][j+1])):\n",
    "#                                     qntFunc = 0\n",
    "# #                                     print(\"Topo \", auxFunc[0],\" :: \", (topoPilhaSplit[i][j],topoPilhaSplit[i][j+1]), qntFunc )\n",
    "\n",
    "                                \n",
    "# #                                 if qntFunc > 1 and (topoPilhaSplit[i][j],topoPilhaSplit[i][j+1]) :\n",
    "# #                                     print(\"Topo \", auxFunc[0],\" :: \", (topoPilhaSplit[i][j],topoPilhaSplit[i][j+1]), qntFunc )\n",
    "# #                                     # caso func ( param )\n",
    "# #                                     if ((topoPilhaSplit[i][j+3] != funcArquivoComParamEParamFunc[k2]) and (topoPilhaSplit[i][j+5] == ')')):\n",
    "# #                                         print(topoPilhaSplit[i][j+1])\n",
    "\n",
    "# #                                     # caso func ( param , param )\n",
    "# #                                     if ((topoPilhaSplit[i][j+3] != funcArquivoComParamEParamFunc[k2]) and (topoPilhaSplit[i][j+5] == ')')):\n",
    "# #                                         print(topoPilhaSplit[i][j+1])\n",
    "#                             else:\n",
    "# #                                 print(\">.. \",contador)\n",
    "#                                 continue\n",
    "\n",
    "                                        \n",
    "                                        \n",
    "                                        \n",
    "#     print(funcArquivoComParamEParamFunc)\n",
    "#     print(funcArquivo)\n",
    "    \n",
    "# #     print(contador)\n",
    "# #     print(\"Topo \", auxFunc[0] == ('string', 'Lun') )\n",
    "\n",
    "    \n",
    "# #     print(\"keys \",contador.keys())\n",
    "# #     print(\"values \",contador.values())\n"
   ]
  },
  {
   "cell_type": "code",
   "execution_count": null,
   "metadata": {
    "collapsed": true
   },
   "outputs": [],
   "source": []
  },
  {
   "cell_type": "code",
   "execution_count": null,
   "metadata": {
    "collapsed": true
   },
   "outputs": [],
   "source": []
  },
  {
   "cell_type": "code",
   "execution_count": null,
   "metadata": {
    "collapsed": true
   },
   "outputs": [],
   "source": []
  },
  {
   "cell_type": "code",
   "execution_count": null,
   "metadata": {
    "collapsed": true
   },
   "outputs": [],
   "source": []
  },
  {
   "cell_type": "code",
   "execution_count": null,
   "metadata": {
    "collapsed": true
   },
   "outputs": [],
   "source": []
  },
  {
   "cell_type": "code",
   "execution_count": null,
   "metadata": {
    "collapsed": true
   },
   "outputs": [],
   "source": []
  },
  {
   "cell_type": "code",
   "execution_count": 9,
   "metadata": {
    "collapsed": false
   },
   "outputs": [
    {
     "name": "stdout",
     "output_type": "stream",
     "text": [
      "Funções  [('int', 'fun', ('int', 'int')), ('int', 'main', ())]\n",
      "None\n",
      "False\n"
     ]
    }
   ],
   "source": [
    "##                               FEITO\n",
    "\n",
    "lc = arquivoPraLinha('saida.txt')\n",
    "todasFuncoesArquivo = []\n",
    "def sobrecarga_funcao():\n",
    "# Pegando todas as funções com seus parâmetros e colocando eles em uma lista na ordem que são declaradas    \n",
    "    for i in range(len(topoPilhaSplit)): \n",
    "        for j in range(len(topoPilhaSplit[i])):\n",
    "            if (topoPilhaSplit[i][j] == 'int' or topoPilhaSplit[i][j] == 'string') and topoPilhaSplit[i][j+2] == '(' and topoPilhaSplit[i][j+3] == ')': \n",
    "                todasFuncoesArquivo.append((topoPilhaSplit[i][j], topoPilhaSplit[i][j+1], (( )))) # add func e param            \n",
    "            if ((topoPilhaSplit[i][j] == 'int' or topoPilhaSplit[i][j] == 'string') and topoPilhaSplit[i][j+2] == '(' and (topoPilhaSplit[i][j+3] == 'int' or topoPilhaSplit[i][j+3] == 'string') and topoPilhaSplit[i][j+5] ==')' ):\n",
    "                todasFuncoesArquivo.append((topoPilhaSplit[i][j], topoPilhaSplit[i][j+1], ( topoPilhaSplit[i][j+3] ,( ) ))) # add func e param\n",
    "\n",
    "            if ((topoPilhaSplit[i][j] == 'int' or topoPilhaSplit[i][j] == 'string') and topoPilhaSplit[i][j+2] == '(' and (topoPilhaSplit[i][j+3] == 'int' or topoPilhaSplit[i][j+3] == 'string') and (topoPilhaSplit[i][j+6] == 'int' or topoPilhaSplit[i][j+6] == 'string') and topoPilhaSplit[i][j+8] ==')' ):\n",
    "                todasFuncoesArquivo.append((topoPilhaSplit[i][j], topoPilhaSplit[i][j+1], ( topoPilhaSplit[i][j+3] , topoPilhaSplit[i][j+6] ))) # add func e param\n",
    "    \n",
    "    \n",
    "    print(\"Funções \", todasFuncoesArquivo)  \n",
    "# basta ver se há duplicados na função\n",
    "def haDuplicados(todasFuncoesArquivo):\n",
    "    _aux = []\n",
    "\n",
    "    # removendo duplicados\n",
    "    for x in todasFuncoesArquivo:\n",
    "        if x not in _aux:\n",
    "            _aux.append(x)\n",
    "    # comparando os tamanhos\n",
    "    if len(todasFuncoesArquivo) != len(_aux):\n",
    "        return True # tem duplicados\n",
    "    else:\n",
    "        return False    \n",
    "    \n",
    "print(sobrecarga_funcao())\n",
    "print(haDuplicados(todasFuncoesArquivo))"
   ]
  },
  {
   "cell_type": "code",
   "execution_count": 13,
   "metadata": {
    "collapsed": false
   },
   "outputs": [
    {
     "name": "stdout",
     "output_type": "stream",
     "text": [
      "continuando  int int\n"
     ]
    },
    {
     "ename": "IndexError",
     "evalue": "list index out of range",
     "output_type": "error",
     "traceback": [
      "\u001b[0;31m---------------------------------------------------------------------------\u001b[0m",
      "\u001b[0;31mIndexError\u001b[0m                                Traceback (most recent call last)",
      "\u001b[0;32m<ipython-input-13-24345c0f9f97>\u001b[0m in \u001b[0;36m<module>\u001b[0;34m()\u001b[0m\n\u001b[1;32m     85\u001b[0m \u001b[0;31m#     print(\"Rev. Lista \",    reversoListaVar)\u001b[0m\u001b[0;34m\u001b[0m\u001b[0;34m\u001b[0m\u001b[0m\n\u001b[1;32m     86\u001b[0m \u001b[0;34m\u001b[0m\u001b[0m\n\u001b[0;32m---> 87\u001b[0;31m \u001b[0mprint\u001b[0m\u001b[0;34m(\u001b[0m\u001b[0mtipo_funcao_mesmo_tipo_retorno_param\u001b[0m\u001b[0;34m(\u001b[0m\u001b[0;34m)\u001b[0m\u001b[0;34m)\u001b[0m\u001b[0;34m\u001b[0m\u001b[0m\n\u001b[0m",
      "\u001b[0;32m<ipython-input-13-24345c0f9f97>\u001b[0m in \u001b[0;36mtipo_funcao_mesmo_tipo_retorno_param\u001b[0;34m()\u001b[0m\n\u001b[1;32m     63\u001b[0m     \u001b[0;32mfor\u001b[0m \u001b[0ml\u001b[0m \u001b[0;32min\u001b[0m \u001b[0mrange\u001b[0m\u001b[0;34m(\u001b[0m\u001b[0mlen\u001b[0m\u001b[0;34m(\u001b[0m\u001b[0mfuncArquivo\u001b[0m\u001b[0;34m)\u001b[0m\u001b[0;34m)\u001b[0m\u001b[0;34m:\u001b[0m\u001b[0;34m\u001b[0m\u001b[0m\n\u001b[1;32m     64\u001b[0m \u001b[0;31m#         print(\"Aqui 1 \")\u001b[0m\u001b[0;34m\u001b[0m\u001b[0;34m\u001b[0m\u001b[0m\n\u001b[0;32m---> 65\u001b[0;31m         \u001b[0;32mif\u001b[0m \u001b[0;32mnot\u001b[0m\u001b[0;34m(\u001b[0m\u001b[0mvarParametrosReturn\u001b[0m\u001b[0;34m[\u001b[0m\u001b[0ml\u001b[0m\u001b[0;34m]\u001b[0m \u001b[0;34m==\u001b[0m \u001b[0mfuncArquivo\u001b[0m\u001b[0;34m[\u001b[0m\u001b[0ml\u001b[0m\u001b[0;34m]\u001b[0m \u001b[0;34m)\u001b[0m\u001b[0;34m:\u001b[0m \u001b[0;31m# O caso é que se criar uma função que repare o tipo da funções com um e dois parâmetros de retorno dá 100% para todos os casos\u001b[0m\u001b[0;34m\u001b[0m\u001b[0m\n\u001b[0m\u001b[1;32m     66\u001b[0m \u001b[0;31m#             print(\"Aqui 2 \")\u001b[0m\u001b[0;34m\u001b[0m\u001b[0;34m\u001b[0m\u001b[0m\n\u001b[1;32m     67\u001b[0m \u001b[0;31m#             print(\"Erro Int or String\", varParametrosReturn[l], funcArquivo[l])\u001b[0m\u001b[0;34m\u001b[0m\u001b[0;34m\u001b[0m\u001b[0m\n",
      "\u001b[0;31mIndexError\u001b[0m: list index out of range"
     ]
    }
   ],
   "source": [
    "##                               FEITO\n",
    "\n",
    "lc = arquivoPraLinha('saida.txt')\n",
    "\n",
    "def tipo_funcao_mesmo_tipo_retorno_param():\n",
    "    variaveisArquivo = []\n",
    "    var_func_Arquivo = []\n",
    "    so_tipo_var_func_Arquivo = []\n",
    "    \n",
    "    tiposVariaveisArquivo = []\n",
    "    funcArquivo = []\n",
    "    funcArquivoZeroParam = []\n",
    "    funcArquivoUmParam = []\n",
    "    funcArquivoDoisParam = []\n",
    "    varParametrosReturn = [] # lista com os parâmetros e os tipos dos retornos\n",
    "    reversoListaVar = []\n",
    "    topoPilha = 0\n",
    "# Pegando todas as variáveis e funções e colocando eles em uma lista na ordem que são declaradas    \n",
    "    for i in range(len(topoPilhaSplit)): \n",
    "        for j in range(len(topoPilhaSplit[i])):\n",
    "            if ((topoPilhaSplit[i][j] == 'int' or topoPilhaSplit[i][j] == 'string') and not topoPilhaSplit[i][j+2] == '(') or ((topoPilhaSplit[i][j] == 'int' or topoPilhaSplit[i][j] == 'string') and topoPilhaSplit[i][j+2] == '('):\n",
    "                var_func_Arquivo.append( (topoPilhaSplit[i][j+1], topoPilhaSplit[i][j] ) )                    \n",
    "                so_tipo_var_func_Arquivo.append(topoPilhaSplit[i][j])                    \n",
    "                    \n",
    "                \n",
    "# Pegando todas as variáveis e colocando eles em uma lista na ordem que são declaradas    \n",
    "    for i in range(len(topoPilhaSplit)): \n",
    "        for j in range(len(topoPilhaSplit[i])):\n",
    "            if (topoPilhaSplit[i][j] == 'int' or topoPilhaSplit[i][j] == 'string') and not topoPilhaSplit[i][j+2] == '(':\n",
    "                    variaveisArquivo.append( (topoPilhaSplit[i][j+1], topoPilhaSplit[i][j] ) )\n",
    "                    tiposVariaveisArquivo.append( (topoPilhaSplit[i][j] ) )\n",
    "                    \n",
    "                    reversoListaVar=variaveisArquivo[::-1] \n",
    "# Pegando todas as funções com seus parâmetros e colocando eles em uma lista na ordem que são declaradas    \n",
    "    for i in range(len(topoPilhaSplit)): \n",
    "        for j in range(len(topoPilhaSplit[i])):\n",
    "            if (topoPilhaSplit[i][j] == 'int' or topoPilhaSplit[i][j] == 'string') and topoPilhaSplit[i][j+2] == '(':\n",
    "                funcArquivo.append( (topoPilhaSplit[i][j] ) ) # pegando as funções na ordem que são declaradas\n",
    "            if (topoPilhaSplit[i][j] == 'int' or topoPilhaSplit[i][j] == 'string') and topoPilhaSplit[i][j+2] == '(' and topoPilhaSplit[i][j+3] == ')': \n",
    "                funcArquivoZeroParam.append( (topoPilhaSplit[i][j]) ) # *só preciso guardar a func\n",
    "            \n",
    "            if ((topoPilhaSplit[i][j] == 'int' or topoPilhaSplit[i][j] == 'string') and topoPilhaSplit[i][j+2] == '(' and (topoPilhaSplit[i][j+3] == 'int' or topoPilhaSplit[i][j+3] == 'string') and topoPilhaSplit[i][j+5] ==')' ):\n",
    "                    funcArquivoUmParam.append( (topoPilhaSplit[i][j]) ) # *só preciso a func\n",
    "\n",
    "            if ((topoPilhaSplit[i][j] == 'int' or topoPilhaSplit[i][j] == 'string') and topoPilhaSplit[i][j+2] == '(' and (topoPilhaSplit[i][j+3] == 'int' or topoPilhaSplit[i][j+3] == 'string') and (topoPilhaSplit[i][j+6] == 'int' or topoPilhaSplit[i][j+6] == 'string') and topoPilhaSplit[i][j+8] ==')' ):\n",
    "                    funcArquivoDoisParam.append((topoPilhaSplit[i][j])) # func\n",
    "    \n",
    "# Pegando os parametros do retorno das funções\n",
    "    for i in range(len(topoPilhaSplit)): \n",
    "        for j in range(len(topoPilhaSplit[i])):\n",
    "            if topoPilhaSplit[i][j] == 'return':\n",
    "                # para return com 1 or 2 param tipo var or func\n",
    "                if ((topoPilhaSplit[i][j+1], 'int') in var_func_Arquivo) and (topoPilhaSplit[i][j+2] == '+' or topoPilhaSplit[i][j+2] == '-' or topoPilhaSplit[i][j+2] == '*' or topoPilhaSplit[i][j+2] == '/' or topoPilhaSplit[i][j+2] == '++' or topoPilhaSplit[i][j+2] == '==') and topoPilhaSplit[i][j+4] == ';' or ((topoPilhaSplit[i][j+1], 'int') in var_func_Arquivo and topoPilhaSplit[i][j+2] == ';'):\n",
    "\n",
    "# or porque caso tenha int string vai dá erro por outros métodos # retorno com um parâmetro ou dois parâmetros        \n",
    "#obs: basto pegar um dos parâmetros pois se não for do mesmo tipo vai dá erro por outras operações\n",
    "                    varParametrosReturn.append('int') # tipos das funções na ordem que são declaradas\n",
    "\n",
    "                if ((topoPilhaSplit[i][j+1], 'string') in var_func_Arquivo) and (topoPilhaSplit[i][j+2] == '+' or topoPilhaSplit[i][j+2] == '-' or topoPilhaSplit[i][j+2] == '*' or topoPilhaSplit[i][j+2] == '/' or topoPilhaSplit[i][j+2] == '++' or topoPilhaSplit[i][j+2] == '==') and topoPilhaSplit[i][j+4] == ';' or ((topoPilhaSplit[i][j+1], 'string') in var_func_Arquivo and topoPilhaSplit[i][j+2] == ';'):\n",
    "                    varParametrosReturn.append('string') # tipos das funções na ordem que são declaradas\n",
    "\n",
    "# verificando se as funções de 1 parâmetro é igual ao retorno da função\n",
    "    for l in range(len(funcArquivo)):\n",
    "#         print(\"Aqui 1 \")\n",
    "        if not(varParametrosReturn[l] == funcArquivo[l] ): # O caso é que se criar uma função que repare o tipo da funções com um e dois parâmetros de retorno dá 100% para todos os casos\n",
    "#             print(\"Aqui 2 \")\n",
    "#             print(\"Erro Int or String\", varParametrosReturn[l], funcArquivo[l])\n",
    "            return False\n",
    "        else:\n",
    "#             print(\"continuando \", varParametrosReturn[l], funcArquivo[l])\n",
    "            continue\n",
    "          \n",
    "\n",
    "#     print(\"nada \",funcArquivo)                                                                                                                                \n",
    "#     print(\"Zero \",funcArquivoZeroParam)\n",
    "#     print(\"Um \",funcArquivoUmParam)\n",
    "#     print(\"Dois \",funcArquivoDoisParam)\n",
    "#     print(\"Var \",    variaveisArquivo)\n",
    "#     print(\"Var. Func. \",    var_func_Arquivo)\n",
    "    \n",
    "#     print(\"Rev.Var \",    reversoListaVar)\n",
    "#     print(\"Func. Arquivo \",    funcArquivo)\n",
    "#     print(\"Var. Param. Um \",    varParametrosReturn)\n",
    "\n",
    "#     print(\"Rev. Lista \",    reversoListaVar)\n",
    "                                                                                    \n",
    "# print(tipo_funcao_mesmo_tipo_retorno_param())\n"
   ]
  }
 ],
 "metadata": {
  "kernelspec": {
   "display_name": "Python 3",
   "language": "python",
   "name": "python3"
  },
  "language_info": {
   "codemirror_mode": {
    "name": "ipython",
    "version": 3
   },
   "file_extension": ".py",
   "mimetype": "text/x-python",
   "name": "python",
   "nbconvert_exporter": "python",
   "pygments_lexer": "ipython3",
   "version": "3.5.2"
  }
 },
 "nbformat": 4,
 "nbformat_minor": 2
}
